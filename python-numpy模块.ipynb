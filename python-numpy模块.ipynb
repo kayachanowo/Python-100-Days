{
 "cells": [
  {
   "cell_type": "code",
   "execution_count": 2,
   "metadata": {},
   "outputs": [
    {
     "name": "stdout",
     "output_type": "stream",
     "text": [
      " 创建的数组为：  [1 2 3 4]\n"
     ]
    }
   ],
   "source": [
    "# -*- coding: utf-8 -*-\n",
    "\n",
    "###############################################################################\n",
    "#######################            课件内容代码             #######################\n",
    "###############################################################################\n",
    "\n",
    "import numpy as np #导入 NumPy 库 \n",
    "arr1 = np.array([1, 2, 3, 4]) #创建一维数组 \n",
    "print(' 创建的数组为： ',arr1)"
   ]
  },
  {
   "cell_type": "code",
   "execution_count": 3,
   "metadata": {},
   "outputs": [
    {
     "name": "stdout",
     "output_type": "stream",
     "text": [
      "创建的数组为：\n",
      " [[ 1  2  3  4]\n",
      " [ 4  5  6  7]\n",
      " [ 7  8  9 10]]\n",
      "数组类型为： int32\n",
      "数组元素个数为： 12\n",
      "数组每个元素大小为： 4\n"
     ]
    }
   ],
   "source": [
    "# 创建二维数组\n",
    "arr2 = np.array([[1, 2, 3, 4],[4, 5, 6, 7], [7, 8, 9, 10]])\n",
    "print('创建的数组为：\\n',arr2)\n",
    "\n",
    "print('数组类型为：',arr2.dtype)  #查看数组类型\n",
    "print('数组元素个数为：',arr2.size)  #查看数组元素个数\n",
    "print('数组每个元素大小为：',arr2.itemsize)  #查看数组每个元素大小"
   ]
  },
  {
   "cell_type": "code",
   "execution_count": 4,
   "metadata": {},
   "outputs": [
    {
     "name": "stdout",
     "output_type": "stream",
     "text": [
      "重新设置shape 后的arr2 为： [[ 1  2  3]\n",
      " [ 4  4  5]\n",
      " [ 6  7  7]\n",
      " [ 8  9 10]]\n"
     ]
    }
   ],
   "source": [
    "arr2.shape = (4,3) #重新设置shape\n",
    "print('重新设置shape 后的arr2 为：',arr2)"
   ]
  },
  {
   "cell_type": "code",
   "execution_count": 6,
   "metadata": {},
   "outputs": [
    {
     "name": "stdout",
     "output_type": "stream",
     "text": [
      "使用arange函数创建的数组为：\n",
      " [0.  0.1 0.2 0.3 0.4 0.5 0.6 0.7 0.8 0.9]\n"
     ]
    }
   ],
   "source": [
    "print('使用arange函数创建的数组为：\\n',np.arange(0,1,0.1))"
   ]
  },
  {
   "cell_type": "code",
   "execution_count": 5,
   "metadata": {},
   "outputs": [
    {
     "name": "stdout",
     "output_type": "stream",
     "text": [
      "使用linspace函数创建的数组为： [0.         0.09090909 0.18181818 0.27272727 0.36363636 0.45454545\n",
      " 0.54545455 0.63636364 0.72727273 0.81818182 0.90909091 1.        ]\n"
     ]
    }
   ],
   "source": [
    "\n",
    "print('使用linspace函数创建的数组为：',np.linspace(0, 1, 12))"
   ]
  },
  {
   "cell_type": "code",
   "execution_count": 6,
   "metadata": {},
   "outputs": [
    {
     "name": "stdout",
     "output_type": "stream",
     "text": [
      "使用logspace函数创建的数组为： [  1.           1.27427499   1.62377674   2.06913808   2.6366509\n",
      "   3.35981829   4.2813324    5.45559478   6.95192796   8.8586679\n",
      "  11.28837892  14.38449888  18.32980711  23.35721469  29.76351442\n",
      "  37.92690191  48.32930239  61.58482111  78.47599704 100.        ]\n"
     ]
    }
   ],
   "source": [
    "print('使用logspace函数创建的数组为：',np.logspace(0, 2, 20))"
   ]
  },
  {
   "cell_type": "code",
   "execution_count": 6,
   "metadata": {},
   "outputs": [
    {
     "name": "stdout",
     "output_type": "stream",
     "text": [
      "使用zeros函数创建的数组为： [[0. 0. 0.]\n",
      " [0. 0. 0.]]\n"
     ]
    }
   ],
   "source": [
    "print('使用zeros函数创建的数组为：',np.zeros((2,3)))"
   ]
  },
  {
   "cell_type": "code",
   "execution_count": 8,
   "metadata": {},
   "outputs": [
    {
     "name": "stdout",
     "output_type": "stream",
     "text": [
      "使用eye函数创建的数组为： [[1. 0. 0.]\n",
      " [0. 1. 0.]\n",
      " [0. 0. 1.]]\n"
     ]
    }
   ],
   "source": [
    "print('使用eye函数创建的数组为：',np.eye(3))"
   ]
  },
  {
   "cell_type": "code",
   "execution_count": 9,
   "metadata": {},
   "outputs": [
    {
     "name": "stdout",
     "output_type": "stream",
     "text": [
      "使用diag函数创建的数组为： [[1 0 0 0]\n",
      " [0 2 0 0]\n",
      " [0 0 3 0]\n",
      " [0 0 0 4]]\n"
     ]
    }
   ],
   "source": [
    "\n",
    "print('使用diag函数创建的数组为：',np.diag([1,2,3,4]))"
   ]
  },
  {
   "cell_type": "code",
   "execution_count": 10,
   "metadata": {},
   "outputs": [
    {
     "name": "stdout",
     "output_type": "stream",
     "text": [
      "使用ones函数的数组为： [[1. 1. 1.]\n",
      " [1. 1. 1.]\n",
      " [1. 1. 1.]\n",
      " [1. 1. 1.]\n",
      " [1. 1. 1.]]\n"
     ]
    }
   ],
   "source": [
    "print('使用ones函数的数组为：',np.ones((5,3)))"
   ]
  },
  {
   "cell_type": "code",
   "execution_count": 11,
   "metadata": {},
   "outputs": [
    {
     "name": "stdout",
     "output_type": "stream",
     "text": [
      "转换结果为： 42.0\n",
      "转换结果为： 42\n",
      "转换结果为： True\n",
      "转换结果为： False\n",
      "转换结果为： 1.0\n",
      "转换结果为： 0.0\n"
     ]
    }
   ],
   "source": [
    "print('转换结果为：',np.float64(42))  #整型转换为浮点型\n",
    "print('转换结果为：',np.int8(42.0))  #浮点型转换为整型\n",
    "print('转换结果为：',np.bool(42))  #整型转换为布尔型\n",
    "print('转换结果为：',np.bool(0))  #整型转换为布尔型\n",
    "print('转换结果为：',np.float(True))  #布尔型转换为浮点型\n",
    "print('转换结果为：',np.float(False))  #布尔型转换为浮点型"
   ]
  },
  {
   "cell_type": "code",
   "execution_count": 12,
   "metadata": {},
   "outputs": [
    {
     "name": "stdout",
     "output_type": "stream",
     "text": [
      "数据类型为： [('name', '<U40'), ('numitems', '<i8'), ('price', '<f8')]\n"
     ]
    }
   ],
   "source": [
    "df = np.dtype([(\"name\", np.str_, 40), (\"numitems\", np.int64),\n",
    "    (\"price\",np.float64)])\n",
    "print('数据类型为：',df)"
   ]
  },
  {
   "cell_type": "code",
   "execution_count": 13,
   "metadata": {},
   "outputs": [
    {
     "name": "stdout",
     "output_type": "stream",
     "text": [
      "数据类型为： <U40\n",
      "数据类型为： <U40\n"
     ]
    }
   ],
   "source": [
    "print('数据类型为：',df[\"name\"])\n",
    "print('数据类型为：',np.dtype(df[\"name\"]))"
   ]
  },
  {
   "cell_type": "code",
   "execution_count": 14,
   "metadata": {},
   "outputs": [
    {
     "name": "stdout",
     "output_type": "stream",
     "text": [
      "自定义数据为： [('tomatoes', 42, 4.14) ('cabbages', 13, 1.72)]\n"
     ]
    }
   ],
   "source": [
    "itemz = np.array([(\"tomatoes\", 42, 4.14),(\"cabbages\", 13, 1.72)],\n",
    "    dtype=df)\n",
    "print('自定义数据为：',itemz)"
   ]
  },
  {
   "cell_type": "code",
   "execution_count": 15,
   "metadata": {},
   "outputs": [
    {
     "name": "stdout",
     "output_type": "stream",
     "text": [
      "生成的随机数组为： [0.13756709 0.43706764 0.07319947 0.40789887 0.2906258  0.84220012\n",
      " 0.78661673 0.62909925 0.1788977  0.04857755 0.81447089 0.06030464\n",
      " 0.69696113 0.3714192  0.30762358 0.59591491 0.41988603 0.7485396\n",
      " 0.8201498  0.83132576 0.60252786 0.37962579 0.29485821 0.96756452\n",
      " 0.15145157 0.05314659 0.48775182 0.00263655 0.44321059 0.98901594\n",
      " 0.48939512 0.33806268 0.62971484 0.34211198 0.15540967 0.64455193\n",
      " 0.42425456 0.73024979 0.02107531 0.96862513 0.05524096 0.84752232\n",
      " 0.36383757 0.50672344 0.95360017 0.11411154 0.76152016 0.52359289\n",
      " 0.2715676  0.20473916 0.24282869 0.29158639 0.92448298 0.25049567\n",
      " 0.05990873 0.67459141 0.61422466 0.89059226 0.83022327 0.58307009\n",
      " 0.53881734 0.53087132 0.36063557 0.88034473 0.69325021 0.17344539\n",
      " 0.25504732 0.58866785 0.034789   0.7776279  0.1024314  0.55647334\n",
      " 0.68950298 0.90007071 0.09460948 0.04672159 0.44655948 0.55701271\n",
      " 0.51213804 0.2754488  0.4535586  0.01095804 0.38941021 0.682404\n",
      " 0.00675521 0.42722571 0.2789241  0.80211877 0.8652626  0.94878204\n",
      " 0.99478712 0.44384529 0.81149757 0.71509016 0.19533631 0.45297696\n",
      " 0.84099953 0.2432589  0.87857731 0.55871674]\n"
     ]
    }
   ],
   "source": [
    "print('生成的随机数组为：',np.random.random(100))"
   ]
  },
  {
   "cell_type": "code",
   "execution_count": 16,
   "metadata": {},
   "outputs": [
    {
     "name": "stdout",
     "output_type": "stream",
     "text": [
      "生成的随机数组为：\n",
      " [[9.68795971e-01 4.28009902e-02 4.10540769e-01 5.79945509e-01\n",
      "  6.94103995e-01]\n",
      " [9.43514397e-01 4.72199453e-01 4.48138949e-01 6.61793031e-01\n",
      "  1.22896206e-02]\n",
      " [9.44275397e-01 4.09546110e-01 2.02719353e-01 7.60690882e-01\n",
      "  3.06501789e-01]\n",
      " [9.26057053e-02 4.39881006e-01 8.97521475e-01 3.03774401e-01\n",
      "  3.87431908e-01]\n",
      " [8.40602114e-01 7.01817075e-01 4.77795804e-01 1.97156261e-04\n",
      "  3.63595886e-01]\n",
      " [3.63079357e-02 3.39187104e-01 9.04629911e-01 1.33160138e-01\n",
      "  6.25719845e-01]\n",
      " [2.06288953e-01 7.83479109e-01 9.54154168e-01 4.52654056e-01\n",
      "  6.65742257e-01]\n",
      " [5.57191332e-01 8.76368796e-02 3.18902696e-01 9.09994681e-01\n",
      "  4.62533163e-01]\n",
      " [5.39527406e-01 2.44811061e-01 6.66367110e-01 9.88097280e-01\n",
      "  3.75191940e-01]\n",
      " [8.49510079e-01 4.73962634e-01 9.80339194e-01 1.53640828e-02\n",
      "  2.77044901e-01]]\n"
     ]
    }
   ],
   "source": [
    "print('生成的均匀分布随机数组为：\\n',np.random.rand(10,5))"
   ]
  },
  {
   "cell_type": "code",
   "execution_count": 17,
   "metadata": {},
   "outputs": [
    {
     "name": "stdout",
     "output_type": "stream",
     "text": [
      "生成的随机数组为：\n",
      " [[ 0.405837    1.84732198 -1.23143685  2.41263364 -0.74806284]\n",
      " [-0.59558909 -0.48601899 -1.33141074 -1.22726618  0.0053888 ]\n",
      " [-1.21000642  0.04845451 -0.51912287  0.42224733  0.3878409 ]\n",
      " [ 0.27075511  1.74341645 -0.75387506  2.36271282  1.4743084 ]\n",
      " [ 0.38064541  1.00266685  0.1371296   0.06716339  0.28334285]\n",
      " [ 0.8710252   1.32119256 -0.7147359  -0.30832265 -0.31533422]\n",
      " [-1.02382481 -0.41845344 -0.68098672 -0.81765026 -0.69465082]\n",
      " [ 0.61512507 -1.39862322 -0.07395413  0.33783199  0.98281168]\n",
      " [-1.387337    0.05705155 -0.4298097  -0.38479974 -0.49744561]\n",
      " [-0.20145002  0.15230417  0.93575234  0.68596537 -0.98502413]]\n"
     ]
    }
   ],
   "source": [
    "print('生成的正态分布随机数组为：\\n',np.random.randn(10,5))"
   ]
  },
  {
   "cell_type": "code",
   "execution_count": 18,
   "metadata": {},
   "outputs": [
    {
     "name": "stdout",
     "output_type": "stream",
     "text": [
      "生成的随机数组为： [[9 7 6 7 5]\n",
      " [4 7 7 6 8]]\n"
     ]
    }
   ],
   "source": [
    "print('生成的随机数组为：',np.random.randint(2,10,size = [2,5]))"
   ]
  },
  {
   "cell_type": "code",
   "execution_count": 21,
   "metadata": {},
   "outputs": [
    {
     "name": "stdout",
     "output_type": "stream",
     "text": [
      "[0 1 2 3 4 5 6 7 8 9]\n",
      "索引结果为： 5\n",
      "索引结果为： [3 4]\n",
      "索引结果为： [0 1 2 3 4]\n",
      "索引结果为： 9\n",
      "索引结果为： [  0   1 100 101   4   5   6   7   8   9]\n",
      "索引结果为： [  1 101   5   7]\n",
      "索引结果为： [  5 101]\n"
     ]
    }
   ],
   "source": [
    "#通过索引访问数组\n",
    "arr = np.arange(10)\n",
    "print(arr)\n",
    "print('索引结果为：',arr[5])  #用整数作为下标可以获取数组中的某个元素\n",
    "#用范围作为下标获取数组的一个切片，包括arr[3]不包括arr[5]\n",
    "print('索引结果为：',arr[3:5])\n",
    "print('索引结果为：',arr[:5])  #省略开始下标，表示从arr[0]开始\n",
    "#下标可以使用负数，-1表示从数组后往前数的第一个元素\n",
    "print('索引结果为：',arr[-1])\n",
    "\n",
    "arr[2:4] = 100,101\n",
    "print('索引结果为：',arr)  #下标还可以用来修改元素的值\n",
    "#范围中的第三个参数表示步长，2表示隔一个元素取一个元素\n",
    "print('索引结果为：',arr[1:-1:2])\n",
    "print('索引结果为：',arr[5:1:-2])  #步长为负数时，开始下标必须大于结束下标"
   ]
  },
  {
   "cell_type": "code",
   "execution_count": 22,
   "metadata": {},
   "outputs": [
    {
     "name": "stdout",
     "output_type": "stream",
     "text": [
      "创建的二维数组为： [[ 1  2  3  4  5]\n",
      " [ 4  5  6  7  8]\n",
      " [ 7  8  9 10 11]]\n",
      "索引结果为： [4 5]\n",
      "索引结果为：\n",
      " [[ 6  7  8]\n",
      " [ 9 10 11]]\n",
      "索引结果为： [3 6 9]\n"
     ]
    }
   ],
   "source": [
    "# 索引访问多维数组\n",
    "arr = np.array([[1, 2, 3, 4, 5],[4, 5, 6, 7, 8], [7, 8, 9, 10, 11]])\n",
    "print('创建的二维数组为：',arr)\n",
    "print('索引结果为：',arr[0,3:5])  #索引第0行中第3和第4列的元素\n",
    "#索引第2和第3行中第3列、第4列和第5列的元素\n",
    "print('索引结果为：\\n',arr[1:,2:])\n",
    "print('索引结果为：',arr[:,2])  #索引第2列的元素"
   ]
  },
  {
   "cell_type": "code",
   "execution_count": 33,
   "metadata": {},
   "outputs": [
    {
     "name": "stdout",
     "output_type": "stream",
     "text": [
      "索引结果为： [ 2  6 10]\n"
     ]
    }
   ],
   "source": [
    "# 整数或布尔值访问多维数组\n",
    "#从两个序列的对应位置取出两个整数组成下标：arr[0,1], arr[1,2], arr[2,3]\n",
    "print('索引结果为：',arr[tuple([(0,1,2),(1,2,3)])])"
   ]
  },
  {
   "cell_type": "code",
   "execution_count": 30,
   "metadata": {},
   "outputs": [
    {
     "name": "stdout",
     "output_type": "stream",
     "text": [
      "索引结果为： [[ 4  6  7]\n",
      " [ 7  9 10]]\n"
     ]
    }
   ],
   "source": [
    "print('索引结果为：',arr[1:,(0,2,3)])  #索引第2、3行中第0、2、3列的元素"
   ]
  },
  {
   "cell_type": "code",
   "execution_count": 28,
   "metadata": {},
   "outputs": [
    {
     "name": "stdout",
     "output_type": "stream",
     "text": [
      "索引结果为： [3 9]\n"
     ]
    }
   ],
   "source": [
    "mask = np.array([1,0,1],dtype = np.bool)\n",
    "#mask是一个布尔数组，它索引第1、3行中第2列的元素\n",
    "print('索引结果为：',arr[mask,2])"
   ]
  },
  {
   "cell_type": "code",
   "execution_count": 34,
   "metadata": {},
   "outputs": [
    {
     "name": "stdout",
     "output_type": "stream",
     "text": [
      "创建的一维数组为： [ 0  1  2  3  4  5  6  7  8  9 10 11]\n",
      "新的一维数组为： [[ 0  1  2  3]\n",
      " [ 4  5  6  7]\n",
      " [ 8  9 10 11]]\n",
      "数组维度为： 2\n"
     ]
    }
   ],
   "source": [
    "# 改变数组形状\n",
    "arr = np.arange(12)  #创建一维数组\n",
    "print('创建的一维数组为：',arr)\n",
    "print('新的一维数组为：',arr.reshape(3,4))  #设置数组的形状\n",
    "print('数组维度为：',arr.reshape(3,4).ndim)  #查看数组维度"
   ]
  },
  {
   "cell_type": "code",
   "execution_count": 35,
   "metadata": {},
   "outputs": [
    {
     "name": "stdout",
     "output_type": "stream",
     "text": [
      "创建的二维数组为： [[ 0  1  2  3]\n",
      " [ 4  5  6  7]\n",
      " [ 8  9 10 11]]\n",
      "数组展平后为： [ 0  1  2  3  4  5  6  7  8  9 10 11]\n"
     ]
    }
   ],
   "source": [
    "# raval展开数组\n",
    "arr = np.arange(12).reshape(3,4)\n",
    "print('创建的二维数组为：',arr)\n",
    "print('数组展平后为：',arr.ravel())"
   ]
  },
  {
   "cell_type": "code",
   "execution_count": 36,
   "metadata": {},
   "outputs": [
    {
     "name": "stdout",
     "output_type": "stream",
     "text": [
      "数组展平为： [ 0  1  2  3  4  5  6  7  8  9 10 11]\n",
      "数组展平为： [ 0  4  8  1  5  9  2  6 10  3  7 11]\n"
     ]
    }
   ],
   "source": [
    "print('数组展平为：',arr.flatten())  #横向展平\n",
    "print('数组展平为：',arr.flatten('F'))  #纵向展平"
   ]
  },
  {
   "cell_type": "code",
   "execution_count": 37,
   "metadata": {},
   "outputs": [
    {
     "name": "stdout",
     "output_type": "stream",
     "text": [
      "创建的数组1为： [[ 0  1  2  3]\n",
      " [ 4  5  6  7]\n",
      " [ 8  9 10 11]]\n",
      "创建的数组2为： [[ 0  3  6  9]\n",
      " [12 15 18 21]\n",
      " [24 27 30 33]]\n",
      "横向组合为： [[ 0  1  2  3  0  3  6  9]\n",
      " [ 4  5  6  7 12 15 18 21]\n",
      " [ 8  9 10 11 24 27 30 33]]\n",
      "纵向组合为： [[ 0  1  2  3]\n",
      " [ 4  5  6  7]\n",
      " [ 8  9 10 11]\n",
      " [ 0  3  6  9]\n",
      " [12 15 18 21]\n",
      " [24 27 30 33]]\n"
     ]
    }
   ],
   "source": [
    "# 使用vstack和hstack实现纵向和横向的数组的合并\n",
    "arr1 = np.arange(12).reshape(3,4)\n",
    "print('创建的数组1为：',arr1)\n",
    "\n",
    "arr2 = arr1*3\n",
    "print('创建的数组2为：',arr2)\n",
    "print('横向组合为：',np.hstack((arr1,arr2)))  #hstack函数横向组合\n",
    "\n",
    "\n",
    "print('纵向组合为：',np.vstack((arr1,arr2)))  #vstack函数纵向组合"
   ]
  },
  {
   "cell_type": "code",
   "execution_count": 38,
   "metadata": {},
   "outputs": [
    {
     "name": "stdout",
     "output_type": "stream",
     "text": [
      "横向组合为： [[ 0  1  2  3  0  3  6  9]\n",
      " [ 4  5  6  7 12 15 18 21]\n",
      " [ 8  9 10 11 24 27 30 33]]\n",
      "纵向组合为： [[ 0  1  2  3]\n",
      " [ 4  5  6  7]\n",
      " [ 8  9 10 11]\n",
      " [ 0  3  6  9]\n",
      " [12 15 18 21]\n",
      " [24 27 30 33]]\n"
     ]
    }
   ],
   "source": [
    "# concatenate函数实现横向或纵向的合并\n",
    "print('横向组合为：',np.concatenate((arr1,arr2),axis = 1))  #concatenate函数横向组合\n",
    "print('纵向组合为：',np.concatenate((arr1,arr2),axis = 0))  #concatenate函数纵向组合"
   ]
  },
  {
   "cell_type": "code",
   "execution_count": 39,
   "metadata": {},
   "outputs": [
    {
     "name": "stdout",
     "output_type": "stream",
     "text": [
      "创建的二维数组为： [[ 0  1  2  3]\n",
      " [ 4  5  6  7]\n",
      " [ 8  9 10 11]\n",
      " [12 13 14 15]]\n",
      "横向分割为： [array([[ 0,  1],\n",
      "       [ 4,  5],\n",
      "       [ 8,  9],\n",
      "       [12, 13]]), array([[ 2,  3],\n",
      "       [ 6,  7],\n",
      "       [10, 11],\n",
      "       [14, 15]])]\n",
      "纵向分割为： [array([[0, 1, 2, 3],\n",
      "       [4, 5, 6, 7]]), array([[ 8,  9, 10, 11],\n",
      "       [12, 13, 14, 15]])]\n"
     ]
    }
   ],
   "source": [
    "#使用hsplit或者vsplit实现数组的分割\n",
    "arr = np.arange(16).reshape(4,4)\n",
    "print('创建的二维数组为：',arr)\n",
    "print('横向分割为：',np.hsplit(arr, 2))  #hsplit函数横向分割\n",
    "\n",
    "print('纵向分割为：',np.vsplit(arr, 2))  #vsplit函数纵向分割"
   ]
  },
  {
   "cell_type": "code",
   "execution_count": 40,
   "metadata": {},
   "outputs": [
    {
     "name": "stdout",
     "output_type": "stream",
     "text": [
      "横向分割为： [array([[ 0,  1],\n",
      "       [ 4,  5],\n",
      "       [ 8,  9],\n",
      "       [12, 13]]), array([[ 2,  3],\n",
      "       [ 6,  7],\n",
      "       [10, 11],\n",
      "       [14, 15]])]\n",
      "纵向分割为： [array([[0, 1, 2, 3],\n",
      "       [4, 5, 6, 7]]), array([[ 8,  9, 10, 11],\n",
      "       [12, 13, 14, 15]])]\n"
     ]
    }
   ],
   "source": [
    "print('横向分割为：',np.split(arr, 2, axis=1))  #split函数横向分割\n",
    "print('纵向分割为：',np.split(arr, 2, axis=0))  #split函数纵向分割"
   ]
  },
  {
   "cell_type": "code",
   "execution_count": 7,
   "metadata": {},
   "outputs": [
    {
     "name": "stdout",
     "output_type": "stream",
     "text": [
      "创建的矩阵为： [[1 2 3]\n",
      " [4 5 6]\n",
      " [7 8 9]]\n"
     ]
    }
   ],
   "source": [
    "# -*- coding: utf-8 -*-\n",
    "\n",
    "###############################################################################\n",
    "#######################            课件代码             #######################\n",
    "###############################################################################\n",
    "\n",
    "import numpy as np  #导入NumPy库\n",
    "matr1 = np.mat(\"1 2 3;4 5 6;7 8 9\") #使用分号隔开数据\n",
    "print('创建的矩阵为：',matr1)"
   ]
  },
  {
   "cell_type": "code",
   "execution_count": 9,
   "metadata": {},
   "outputs": [
    {
     "data": {
      "text/plain": [
       "matrix([[1, 4, 7],\n",
       "        [2, 5, 8],\n",
       "        [3, 6, 9]])"
      ]
     },
     "execution_count": 9,
     "metadata": {},
     "output_type": "execute_result"
    }
   ],
   "source": [
    "matr1.T"
   ]
  },
  {
   "cell_type": "code",
   "execution_count": 10,
   "metadata": {},
   "outputs": [
    {
     "data": {
      "text/plain": [
       "matrix([[1, 4, 7],\n",
       "        [2, 5, 8],\n",
       "        [3, 6, 9]])"
      ]
     },
     "execution_count": 10,
     "metadata": {},
     "output_type": "execute_result"
    }
   ],
   "source": [
    "matr1.H"
   ]
  },
  {
   "cell_type": "code",
   "execution_count": 12,
   "metadata": {},
   "outputs": [
    {
     "data": {
      "text/plain": [
       "array([[1, 2, 3],\n",
       "       [4, 5, 6],\n",
       "       [7, 8, 9]])"
      ]
     },
     "execution_count": 12,
     "metadata": {},
     "output_type": "execute_result"
    }
   ],
   "source": [
    "matr1.A"
   ]
  },
  {
   "cell_type": "code",
   "execution_count": 43,
   "metadata": {},
   "outputs": [
    {
     "name": "stdout",
     "output_type": "stream",
     "text": [
      "创建的矩阵为： [[1 2 3]\n",
      " [4 5 6]\n",
      " [7 8 9]]\n"
     ]
    }
   ],
   "source": [
    "matr2 = np.matrix([[1,2,3],[4,5,6],[7,8,9]])\n",
    "print('创建的矩阵为：',matr2)"
   ]
  },
  {
   "cell_type": "code",
   "execution_count": 44,
   "metadata": {},
   "outputs": [
    {
     "name": "stdout",
     "output_type": "stream",
     "text": [
      "创建的数组1为： [[1. 0. 0.]\n",
      " [0. 1. 0.]\n",
      " [0. 0. 1.]]\n"
     ]
    }
   ],
   "source": [
    "arr1 = np.eye(3)\n",
    "print('创建的数组1为：',arr1)"
   ]
  },
  {
   "cell_type": "code",
   "execution_count": 45,
   "metadata": {},
   "outputs": [
    {
     "name": "stdout",
     "output_type": "stream",
     "text": [
      "创建的数组2为： [[3. 0. 0.]\n",
      " [0. 3. 0.]\n",
      " [0. 0. 3.]]\n",
      "创建的矩阵为： [[1. 0. 0. 3. 0. 0.]\n",
      " [0. 1. 0. 0. 3. 0.]\n",
      " [0. 0. 1. 0. 0. 3.]\n",
      " [1. 0. 0. 3. 0. 0.]\n",
      " [0. 1. 0. 0. 3. 0.]\n",
      " [0. 0. 1. 0. 0. 3.]]\n"
     ]
    }
   ],
   "source": [
    "arr2 = 3*arr1\n",
    "print('创建的数组2为：',arr2)\n",
    "#bmat分块矩阵函数\n",
    "print('创建的矩阵为：',np.bmat(\"arr1 arr2; arr1 arr2\"))"
   ]
  },
  {
   "cell_type": "code",
   "execution_count": 46,
   "metadata": {},
   "outputs": [
    {
     "name": "stdout",
     "output_type": "stream",
     "text": [
      "创建的矩阵为： [[1 2 3]\n",
      " [4 5 6]\n",
      " [7 8 9]]\n"
     ]
    }
   ],
   "source": [
    "matr1 = np.mat(\"1 2 3;4 5 6;7 8 9\")  #创建矩阵\n",
    "print('创建的矩阵为：',matr1)"
   ]
  },
  {
   "cell_type": "code",
   "execution_count": 48,
   "metadata": {},
   "outputs": [
    {
     "name": "stdout",
     "output_type": "stream",
     "text": [
      "创建的矩阵为： [[1 2 3]\n",
      " [4 5 6]\n",
      " [7 8 9]]\n",
      "创建的矩阵为： [[ 3  6  9]\n",
      " [12 15 18]\n",
      " [21 24 27]]\n",
      "矩阵相加结果为： [[ 4  8 12]\n",
      " [16 20 24]\n",
      " [28 32 36]]\n",
      "矩阵相减结果为： [[ -2  -4  -6]\n",
      " [ -8 -10 -12]\n",
      " [-14 -16 -18]]\n",
      "矩阵相乘结果为： [[ 90 108 126]\n",
      " [198 243 288]\n",
      " [306 378 450]]\n",
      "矩阵对应元素相乘结果为： [[  3  12  27]\n",
      " [ 48  75 108]\n",
      " [147 192 243]]\n"
     ]
    }
   ],
   "source": [
    "matr2 = matr1*3  #矩阵与数相乘\n",
    "print('创建的矩阵为：',matr1)\n",
    "print('创建的矩阵为：',matr2)\n",
    "print('矩阵相加结果为：',matr1+matr2)  #矩阵相加\n",
    "print('矩阵相减结果为：',matr1-matr2)  #矩阵相减\n",
    "print('矩阵相乘结果为：',matr1*matr2)  #矩阵相乘\n",
    "print('矩阵对应元素相乘结果为：',np.multiply(matr1,matr2))"
   ]
  },
  {
   "cell_type": "code",
   "execution_count": 52,
   "metadata": {},
   "outputs": [
    {
     "name": "stdout",
     "output_type": "stream",
     "text": [
      "矩阵转置结果为： [[1 4 7]\n",
      " [4 2 3]\n",
      " [3 6 2]]\n",
      "矩阵共轭转置结果为： [[1 4 7]\n",
      " [4 2 3]\n",
      " [3 6 2]]\n",
      "矩阵的逆矩阵结果为： [[ 36.5  38.  -27. ]\n",
      " [-16.  -17.   12. ]\n",
      " [ -7.   -7.    5. ]]\n",
      "矩阵的二维数组结果为： [[1 4 3]\n",
      " [4 2 6]\n",
      " [7 3 2]]\n"
     ]
    }
   ],
   "source": [
    "matr1 = np.mat(\"1 4 3;4 2 6;7 3 2\")\n",
    "print('矩阵转置结果为：',matr1.T)  #转置\n",
    "print('矩阵共轭转置结果为：',matr1.H)  #共轭转置（实数的共轭就是其本身）\n",
    "print('矩阵的逆矩阵结果为：',(matr1-matr2).I)  #逆矩阵\n",
    "print('矩阵的二维数组结果为：',matr1.A)  #返回二维数组的视图"
   ]
  },
  {
   "cell_type": "code",
   "execution_count": 53,
   "metadata": {},
   "outputs": [
    {
     "name": "stdout",
     "output_type": "stream",
     "text": [
      "数组相加结果为： [5 7 9]\n",
      "数组相减结果为： [-3 -3 -3]\n",
      "数组相乘结果为： [ 4 10 18]\n",
      "数组相除结果为： [0.25 0.4  0.5 ]\n",
      "数组幂运算结果为： [  1  32 729]\n"
     ]
    }
   ],
   "source": [
    "# 数组的运算\n",
    "x = np.array([1,2,3])\n",
    "y = np.array([4,5,6])\n",
    "print('数组相加结果为：',x + y)  #数组相加\n",
    "print('数组相减结果为：',x - y)  #数组相减\n",
    "print('数组相乘结果为：',x * y)  #数组相乘\n",
    "print('数组相除结果为：',x / y)  #数组相除\n",
    "print('数组幂运算结果为：',x ** y)  #数组幂运算"
   ]
  },
  {
   "cell_type": "code",
   "execution_count": 54,
   "metadata": {},
   "outputs": [
    {
     "name": "stdout",
     "output_type": "stream",
     "text": [
      "数组比较结果为： [ True False False]\n",
      "数组比较结果为： [False False  True]\n",
      "数组比较结果为： [False  True False]\n",
      "数组比较结果为： [False  True  True]\n",
      "数组比较结果为： [ True  True False]\n",
      "数组比较结果为： [ True False  True]\n"
     ]
    }
   ],
   "source": [
    "# 数组的比较运算\n",
    "x = np.array([1,3,5])\n",
    "y = np.array([2,3,4])\n",
    "print('数组比较结果为：',x < y)\n",
    "print('数组比较结果为：',x > y)\n",
    "print('数组比较结果为：',x == y)\n",
    "print('数组比较结果为：',x >= y)\n",
    "print('数组比较结果为：',x <= y)\n",
    "print('数组比较结果为：',x != y)"
   ]
  },
  {
   "cell_type": "code",
   "execution_count": 55,
   "metadata": {},
   "outputs": [
    {
     "name": "stdout",
     "output_type": "stream",
     "text": [
      "数组逻辑运算结果为： False\n",
      "数组逻辑运算结果为： True\n"
     ]
    }
   ],
   "source": [
    "# 数组的逻辑运算\n",
    "print('数组逻辑运算结果为：',np.all(x == y))  #np.all()表示逻辑and\n",
    "print('数组逻辑运算结果为：',np.any(x == y))  #np.any()表示逻辑or"
   ]
  },
  {
   "cell_type": "code",
   "execution_count": 56,
   "metadata": {},
   "outputs": [
    {
     "name": "stdout",
     "output_type": "stream",
     "text": [
      "创建的数组1为： [[0 0 0]\n",
      " [1 1 1]\n",
      " [2 2 2]\n",
      " [3 3 3]]\n",
      "数组1的shape为： (4, 3)\n",
      "创建的数组2为： [1 2 3]\n",
      "数组2的shape为： (3,)\n",
      "数组相加结果为： [[1 2 3]\n",
      " [2 3 4]\n",
      " [3 4 5]\n",
      " [4 5 6]]\n"
     ]
    }
   ],
   "source": [
    "# 一维数组的广播机制\n",
    "arr1 = np.array([[0,0,0],[1,1,1],[2,2,2],[3,3,3]])\n",
    "print('创建的数组1为：',arr1)\n",
    "print('数组1的shape为：',arr1.shape)\n",
    "arr2 = np.array([1,2,3])\n",
    "print('创建的数组2为：',arr2)\n",
    "print('数组2的shape为：',arr2.shape)\n",
    "print('数组相加结果为：',arr1 + arr2)"
   ]
  },
  {
   "cell_type": "code",
   "execution_count": 57,
   "metadata": {},
   "outputs": [
    {
     "name": "stdout",
     "output_type": "stream",
     "text": [
      "创建的数组1为： [[0 0 0]\n",
      " [1 1 1]\n",
      " [2 2 2]\n",
      " [3 3 3]]\n",
      "数组1的shape为： (4, 3)\n",
      "创建的数组2为： [[1]\n",
      " [2]\n",
      " [3]\n",
      " [4]]\n",
      "数组2的shape为： (4, 1)\n",
      "数组相加结果为： [[1 1 1]\n",
      " [3 3 3]\n",
      " [5 5 5]\n",
      " [7 7 7]]\n"
     ]
    }
   ],
   "source": [
    "# 二维数组的广播机制\n",
    "arr1 = np.array([[0,0,0],[1,1,1],[2,2,2],[3,3,3]])\n",
    "print('创建的数组1为：',arr1)\n",
    "print('数组1的shape为：',arr1.shape)\n",
    "\n",
    "arr2 = np.array([1,2,3,4]).reshape((4,1))\n",
    "print('创建的数组2为：',arr2)\n",
    "print('数组2的shape为：',arr2.shape)\n",
    "print('数组相加结果为：',arr1 + arr2)"
   ]
  },
  {
   "cell_type": "code",
   "execution_count": null,
   "metadata": {},
   "outputs": [],
   "source": [
    "# -*- coding: utf-8 -*-\n",
    "\n",
    "###############################################################################\n",
    "#######################            课件PPT代码             #######################\n",
    "###############################################################################\n",
    "\n",
    "#二进制数据的存储\n",
    "import numpy as np  #导入NumPy库\n",
    "arr = np.arange(100).reshape(10,10)  #创建一个数组\n",
    "np.save(\"D:/tmp/save_arr\",arr)  #保存数组\n",
    "print('保存的数组为：\\n',arr)\n",
    "\n",
    "#多个数组的存储\n",
    "arr1 = np.array([[1,2,3],[4,5,6]])\n",
    "arr2 = np.arange(0,1.0,0.1)\n",
    "np.savez('../tmp/savez_arr',arr1,arr2)\n",
    "print('保存的数组1为：',arr1)\n",
    "print('保存的数组2为：',arr2)\n",
    "\n",
    "# 二进制文件的读取\n",
    "loaded_data = np.load(\"../tmp/save_arr.npy\")  #读取含有单个数组的文件\n",
    "print('读取的数组为：\\n',loaded_data)\n",
    "#读取多个数组的文件\n",
    "loaded_data1 = np.load(\"../tmp/savez_arr.npz\")  #读取含有多个数组的文件\n",
    "print('读取的数组1为：',loaded_data1['arr_0'])\n",
    "print('读取的数组2为：',loaded_data1['arr_1'])"
   ]
  },
  {
   "cell_type": "code",
   "execution_count": null,
   "metadata": {},
   "outputs": [],
   "source": [
    "# 文件的存储与读取\n",
    "arr = np.arange(0,12,0.5).reshape(4,-1)\n",
    "print('创建的数组为：',arr)\n",
    "\n",
    "#fmt =\"%d\"为指定保存为整数\n",
    "np.savetxt(\"../tmp/arr.txt\", arr, fmt=\"%d\", delimiter=\",\")\n",
    "#读入的时候也需要指定逗号分隔\n",
    "loaded_data = np.loadtxt(\"../tmp/arr.txt\",delimiter=\",\")\n",
    "print('读取的数组为：',loaded_data)\n",
    "\n",
    "\n",
    "# 使用genfromtxt读取数组\n",
    "loaded_data = np.genfromtxt(\"../tmp/arr.txt\", delimiter = \",\")\n",
    "print('读取的数组为：',loaded_data)"
   ]
  },
  {
   "cell_type": "code",
   "execution_count": 58,
   "metadata": {},
   "outputs": [
    {
     "name": "stdout",
     "output_type": "stream",
     "text": [
      "创建的数组为： [7 4 8 5 7 3 7 8 5 4]\n",
      "排序后数组为： [3 4 4 5 5 7 7 7 8 8]\n",
      "创建的数组为： [[8 8 3]\n",
      " [6 5 2]\n",
      " [8 6 2]]\n",
      "排序后数组为： [[3 8 8]\n",
      " [2 5 6]\n",
      " [2 6 8]]\n",
      "排序后数组为： [[2 5 6]\n",
      " [2 6 8]\n",
      " [3 8 8]]\n"
     ]
    }
   ],
   "source": [
    "# 使用sort函数进行排序\n",
    "np.random.seed(42)  #设置随机种子\n",
    "arr = np.random.randint(1,10,size = 10)  #生成随机数\n",
    "print('创建的数组为：',arr)\n",
    "\n",
    "arr.sort()  #直接排序\n",
    "print('排序后数组为：',arr)\n",
    "\n",
    "arr = np.random.randint(1,10,size = (3,3))  #生成3行3列的随机数\n",
    "print('创建的数组为：',arr)\n",
    "\n",
    "arr.sort(axis = 1)  #沿着横轴排序\n",
    "print('排序后数组为：',arr)\n",
    "\n",
    "arr.sort(axis = 0)  #沿着纵轴排序\n",
    "print('排序后数组为：',arr)"
   ]
  },
  {
   "cell_type": "code",
   "execution_count": 59,
   "metadata": {},
   "outputs": [
    {
     "name": "stdout",
     "output_type": "stream",
     "text": [
      "创建的数组为： [2 3 6 8 0 7]\n",
      "排序后数组为： [4 0 1 2 5 3]\n"
     ]
    }
   ],
   "source": [
    "# 使用argsort进行排序\n",
    "arr = np.array([2,3,6,8,0,7])\n",
    "print('创建的数组为：',arr)\n",
    "print('排序后数组为：',arr.argsort())  #返回值为重新排序值的下标"
   ]
  },
  {
   "cell_type": "code",
   "execution_count": 60,
   "metadata": {},
   "outputs": [
    {
     "name": "stdout",
     "output_type": "stream",
     "text": [
      "创建的数组为： ['小明' '小黄' '小花' '小明' '小花' '小兰' '小白']\n",
      "去重后的数组为： ['小兰' '小明' '小白' '小花' '小黄']\n",
      "去重后的数组为： ['小兰', '小明', '小白', '小花', '小黄']\n",
      "创建的数组为： [ 1  2  3  4  4  5  6  6  7  8  8  9 10]\n",
      "去重后的数组为： [ 1  2  3  4  5  6  7  8  9 10]\n"
     ]
    }
   ],
   "source": [
    "# 数据去重复\n",
    "names = np.array(['小明', '小黄', '小花', '小明', \n",
    "    '小花', '小兰', '小白'])\n",
    "print('创建的数组为：',names)\n",
    "\n",
    "print('去重后的数组为：',np.unique(names))\n",
    "\n",
    "#跟np.unique等价的Python代码实现过程\n",
    "print('去重后的数组为：',sorted(set(names)))\n",
    "\n",
    "\n",
    "ints = np.array([1,2,3,4,4,5,6,6,7,8,8,9,10])  #创建数值型数据\n",
    "print('创建的数组为：',ints)\n",
    "print('去重后的数组为：',np.unique(ints))"
   ]
  },
  {
   "cell_type": "code",
   "execution_count": 61,
   "metadata": {},
   "outputs": [
    {
     "name": "stdout",
     "output_type": "stream",
     "text": [
      "创建的数组为： [0 1 2 3 4]\n",
      "重复后数组为： [0 1 2 3 4 0 1 2 3 4 0 1 2 3 4]\n"
     ]
    }
   ],
   "source": [
    "# tile实现数据重复\n",
    "arr = np.arange(5)\n",
    "print('创建的数组为：',arr)\n",
    "print('重复后数组为：',np.tile(arr,3))  #对数组进行重复"
   ]
  },
  {
   "cell_type": "code",
   "execution_count": 62,
   "metadata": {},
   "outputs": [
    {
     "name": "stdout",
     "output_type": "stream",
     "text": [
      "创建的数组为： [[6 3 7]\n",
      " [4 6 9]\n",
      " [2 6 7]]\n",
      "重复后数组为： [[6 3 7]\n",
      " [6 3 7]\n",
      " [4 6 9]\n",
      " [4 6 9]\n",
      " [2 6 7]\n",
      " [2 6 7]]\n",
      "重复后数组为： [[6 6 3 3 7 7]\n",
      " [4 4 6 6 9 9]\n",
      " [2 2 6 6 7 7]]\n"
     ]
    }
   ],
   "source": [
    "# repeat函数实现数据的重复\n",
    "np.random.seed(42)  #设置随机种子\n",
    "arr = np.random.randint(0,10,size = (3,3))\n",
    "print('创建的数组为：',arr)\n",
    "print('重复后数组为：',arr.repeat(2, axis = 0))  #按行进行元素重复\n",
    "print('重复后数组为：',arr.repeat(2, axis = 1))  #按列进行元素重复"
   ]
  },
  {
   "cell_type": "code",
   "execution_count": 63,
   "metadata": {},
   "outputs": [
    {
     "name": "stdout",
     "output_type": "stream",
     "text": [
      "创建的数组为： [[ 0  1  2  3  4]\n",
      " [ 5  6  7  8  9]\n",
      " [10 11 12 13 14]\n",
      " [15 16 17 18 19]]\n",
      "数组的和为： 190\n",
      "数组横轴的和为： [30 34 38 42 46]\n",
      "数组纵轴的和为： [10 35 60 85]\n",
      "数组的均值为： 9.5\n",
      "数组横轴的均值为： [ 7.5  8.5  9.5 10.5 11.5]\n",
      "数组纵轴的均值为： [ 2.  7. 12. 17.]\n",
      "数组的标准差为： 5.766281297335398\n",
      "数组的方差为： 33.25\n",
      "数组的最小值为： 0\n",
      "数组的最大值为： 19\n",
      "数组的最小元素为： 0\n",
      "数组的最大元素为： 19\n"
     ]
    }
   ],
   "source": [
    "# 常用统计函数\n",
    "arr = np.arange(20).reshape(4,5)\n",
    "print('创建的数组为：',arr)\n",
    "print('数组的和为：',np.sum(arr))  #计算数组的和\n",
    "print('数组横轴的和为：',arr.sum(axis = 0))  #沿着横轴计算求和\n",
    "print('数组纵轴的和为：',arr.sum(axis = 1))  #沿着纵轴计算求和\n",
    "print('数组的均值为：',np.mean(arr))  #计算数组均值\n",
    "print('数组横轴的均值为：',arr.mean(axis = 0))  #沿着横轴计算数组均值\n",
    "print('数组纵轴的均值为：',arr.mean(axis = 1))  #沿着纵轴计算数组均值\n",
    "print('数组的标准差为：',np.std(arr))  #计算数组标准差\n",
    "print('数组的方差为：',np.var(arr))  #计算数组方差\n",
    "print('数组的最小值为：',np.min(arr))  #计算数组最小值\n",
    "print('数组的最大值为：',np.max(arr))  #计算数组最大值\n",
    "print('数组的最小元素为：',np.argmin(arr))  #返回数组最小元素的索引\n",
    "print('数组的最大元素为：',np.argmax(arr))  #返回数组最大元素的索引"
   ]
  },
  {
   "cell_type": "code",
   "execution_count": 64,
   "metadata": {},
   "outputs": [
    {
     "name": "stdout",
     "output_type": "stream",
     "text": [
      "创建的数组为： [2 3 4 5 6 7 8 9]\n",
      "数组元素的累计和为： [ 2  5  9 14 20 27 35 44]\n",
      "数组元素的累计积为： [     2      6     24    120    720   5040  40320 362880]\n"
     ]
    }
   ],
   "source": [
    "# 累计函数的使用\n",
    "arr = np.arange(2,10)\n",
    "print('创建的数组为：',arr)\n",
    "print('数组元素的累计和为：',np.cumsum(arr))  #计算所有元素的累计和\n",
    "print('数组元素的累计积为：',np.cumprod(arr))  #计算所有元素的累计积"
   ]
  },
  {
   "cell_type": "code",
   "execution_count": 66,
   "metadata": {},
   "outputs": [
    {
     "name": "stdout",
     "output_type": "stream",
     "text": [
      "花萼长度表为： [5.1 4.9 4.7 4.6 5.  5.4 4.6 5.  4.4 4.9 5.4 4.8 4.8 4.3 5.8 5.7 5.4 5.1\n",
      " 5.7 5.1 5.4 5.1 4.6 5.1 4.8 5.  5.  5.2 5.2 4.7 4.8 5.4 5.2 5.5 4.9 5.\n",
      " 5.5 4.9 4.4 5.1 5.  4.5 4.4 5.  5.1 4.8 5.1 4.6 5.3 5.  7.  6.4 6.9 5.5\n",
      " 6.5 5.7 6.3 4.9 6.6 5.2 5.  5.9 6.  6.1 5.6 6.7 5.6 5.8 6.2 5.6 5.9 6.1\n",
      " 6.3 6.1 6.4 6.6 6.8 6.7 6.  5.7 5.5 5.5 5.8 6.  5.4 6.  6.7 6.3 5.6 5.5\n",
      " 5.5 6.1 5.8 5.  5.6 5.7 5.7 6.2 5.1 5.7 6.3 5.8 7.1 6.3 6.5 7.6 4.9 7.3\n",
      " 6.7 7.2 6.5 6.4 6.8 5.7 5.8 6.4 6.5 7.7 7.7 6.  6.9 5.6 7.7 6.3 6.7 7.2\n",
      " 6.2 6.1 6.4 7.2 7.4 7.9 6.4 6.3 6.1 7.7 6.3 6.4 6.  6.9 6.7 6.9 5.8 6.8\n",
      " 6.7 6.7 6.3 6.5 6.2 5.9]\n"
     ]
    }
   ],
   "source": [
    "###############################################################################\n",
    "#######################            任务实现             #######################\n",
    "###############################################################################\n",
    "\n",
    "iris_sepal_length = np.loadtxt(\"iris_sepal_length.csv\", \n",
    "    delimiter=\",\")  #读取文件\n",
    "print('花萼长度表为：',iris_sepal_length)"
   ]
  },
  {
   "cell_type": "code",
   "execution_count": 67,
   "metadata": {},
   "outputs": [
    {
     "name": "stdout",
     "output_type": "stream",
     "text": [
      "排序后的花萼长度表为： [4.3 4.4 4.4 4.4 4.5 4.6 4.6 4.6 4.6 4.7 4.7 4.8 4.8 4.8 4.8 4.8 4.9 4.9\n",
      " 4.9 4.9 4.9 4.9 5.  5.  5.  5.  5.  5.  5.  5.  5.  5.  5.1 5.1 5.1 5.1\n",
      " 5.1 5.1 5.1 5.1 5.1 5.2 5.2 5.2 5.2 5.3 5.4 5.4 5.4 5.4 5.4 5.4 5.5 5.5\n",
      " 5.5 5.5 5.5 5.5 5.5 5.6 5.6 5.6 5.6 5.6 5.6 5.7 5.7 5.7 5.7 5.7 5.7 5.7\n",
      " 5.7 5.8 5.8 5.8 5.8 5.8 5.8 5.8 5.9 5.9 5.9 6.  6.  6.  6.  6.  6.  6.1\n",
      " 6.1 6.1 6.1 6.1 6.1 6.2 6.2 6.2 6.2 6.3 6.3 6.3 6.3 6.3 6.3 6.3 6.3 6.3\n",
      " 6.4 6.4 6.4 6.4 6.4 6.4 6.4 6.5 6.5 6.5 6.5 6.5 6.6 6.6 6.7 6.7 6.7 6.7\n",
      " 6.7 6.7 6.7 6.7 6.8 6.8 6.8 6.9 6.9 6.9 6.9 7.  7.1 7.2 7.2 7.2 7.3 7.4\n",
      " 7.6 7.7 7.7 7.7 7.7 7.9]\n"
     ]
    }
   ],
   "source": [
    "iris_sepal_length.sort()  #对数据进行排序\n",
    "print('排序后的花萼长度表为：',iris_sepal_length)"
   ]
  },
  {
   "cell_type": "code",
   "execution_count": 68,
   "metadata": {},
   "outputs": [
    {
     "name": "stdout",
     "output_type": "stream",
     "text": [
      "去重后的花萼长度表为： [4.3 4.4 4.5 4.6 4.7 4.8 4.9 5.  5.1 5.2 5.3 5.4 5.5 5.6 5.7 5.8 5.9 6.\n",
      " 6.1 6.2 6.3 6.4 6.5 6.6 6.7 6.8 6.9 7.  7.1 7.2 7.3 7.4 7.6 7.7 7.9]\n"
     ]
    }
   ],
   "source": [
    "#去除重复值\n",
    "print('去重后的花萼长度表为：',np.unique(iris_sepal_length))"
   ]
  },
  {
   "cell_type": "code",
   "execution_count": 69,
   "metadata": {},
   "outputs": [
    {
     "name": "stdout",
     "output_type": "stream",
     "text": [
      "花萼长度表的总和为： 876.5\n"
     ]
    }
   ],
   "source": [
    "print('花萼长度表的总和为：',np.sum(iris_sepal_length))  #计算数组总和"
   ]
  },
  {
   "cell_type": "code",
   "execution_count": 70,
   "metadata": {},
   "outputs": [
    {
     "name": "stdout",
     "output_type": "stream",
     "text": [
      "花萼长度表的累计和为： [  4.3   8.7  13.1  17.5  22.   26.6  31.2  35.8  40.4  45.1  49.8  54.6\n",
      "  59.4  64.2  69.   73.8  78.7  83.6  88.5  93.4  98.3 103.2 108.2 113.2\n",
      " 118.2 123.2 128.2 133.2 138.2 143.2 148.2 153.2 158.3 163.4 168.5 173.6\n",
      " 178.7 183.8 188.9 194.  199.1 204.3 209.5 214.7 219.9 225.2 230.6 236.\n",
      " 241.4 246.8 252.2 257.6 263.1 268.6 274.1 279.6 285.1 290.6 296.1 301.7\n",
      " 307.3 312.9 318.5 324.1 329.7 335.4 341.1 346.8 352.5 358.2 363.9 369.6\n",
      " 375.3 381.1 386.9 392.7 398.5 404.3 410.1 415.9 421.8 427.7 433.6 439.6\n",
      " 445.6 451.6 457.6 463.6 469.6 475.7 481.8 487.9 494.  500.1 506.2 512.4\n",
      " 518.6 524.8 531.  537.3 543.6 549.9 556.2 562.5 568.8 575.1 581.4 587.7\n",
      " 594.1 600.5 606.9 613.3 619.7 626.1 632.5 639.  645.5 652.  658.5 665.\n",
      " 671.6 678.2 684.9 691.6 698.3 705.  711.7 718.4 725.1 731.8 738.6 745.4\n",
      " 752.2 759.1 766.  772.9 779.8 786.8 793.9 801.1 808.3 815.5 822.8 830.2\n",
      " 837.8 845.5 853.2 860.9 868.6 876.5]\n"
     ]
    }
   ],
   "source": [
    "#计算所有元素的累计和\n",
    "print('花萼长度表的累计和为：',np.cumsum(iris_sepal_length))"
   ]
  },
  {
   "cell_type": "code",
   "execution_count": 71,
   "metadata": {},
   "outputs": [
    {
     "name": "stdout",
     "output_type": "stream",
     "text": [
      "花萼长度表的均值为： 5.843333333333334\n"
     ]
    }
   ],
   "source": [
    "print('花萼长度表的均值为：',np.mean(iris_sepal_length))  #计算数组均值"
   ]
  },
  {
   "cell_type": "code",
   "execution_count": 72,
   "metadata": {},
   "outputs": [
    {
     "name": "stdout",
     "output_type": "stream",
     "text": [
      "花萼长度表的标准差为： 0.8253012917851409\n"
     ]
    }
   ],
   "source": [
    "#计算数组标准差\n",
    "print('花萼长度表的标准差为：',np.std(iris_sepal_length))"
   ]
  },
  {
   "cell_type": "code",
   "execution_count": 73,
   "metadata": {},
   "outputs": [
    {
     "name": "stdout",
     "output_type": "stream",
     "text": [
      "花萼长度表的方差为： 0.6811222222222223\n"
     ]
    }
   ],
   "source": [
    "print('花萼长度表的方差为：',np.var(iris_sepal_length))  #计算数组方差"
   ]
  },
  {
   "cell_type": "code",
   "execution_count": 74,
   "metadata": {},
   "outputs": [
    {
     "name": "stdout",
     "output_type": "stream",
     "text": [
      "花萼长度表的最小值为： 4.3\n"
     ]
    }
   ],
   "source": [
    "print('花萼长度表的最小值为：',np.min(iris_sepal_length))  #计算最小值"
   ]
  },
  {
   "cell_type": "code",
   "execution_count": 75,
   "metadata": {},
   "outputs": [
    {
     "name": "stdout",
     "output_type": "stream",
     "text": [
      "花萼长度表的最大值为： 7.9\n"
     ]
    }
   ],
   "source": [
    "print('花萼长度表的最大值为：',np.max(iris_sepal_length))  #计算最大值"
   ]
  },
  {
   "cell_type": "code",
   "execution_count": 1,
   "metadata": {},
   "outputs": [
    {
     "name": "stdout",
     "output_type": "stream",
     "text": [
      "计算3×3方阵的特征根和特征向量：\n",
      " [[1 2 5]\n",
      " [3 6 8]\n",
      " [4 7 9]]\n",
      "求解结果为：\n",
      " (array([16.75112093, -1.12317544,  0.37205451]), array([[-0.30758888, -0.90292521,  0.76324346],\n",
      "       [-0.62178217, -0.09138877, -0.62723398],\n",
      "       [-0.72026108,  0.41996923,  0.15503853]]))\n"
     ]
    }
   ],
   "source": [
    "import numpy as np\n",
    "arr16 = np.array([[1,2,5],[3,6,8],[4,7,9]])\n",
    "print('计算3×3方阵的特征根和特征向量：\\n',arr16)\n",
    "print('求解结果为：\\n',np.linalg.eig(arr16))"
   ]
  },
  {
   "cell_type": "code",
   "execution_count": null,
   "metadata": {},
   "outputs": [],
   "source": [
    "# 多元线性方程组\n",
    "A = np.array([[3,2,1],[2,3,1],[1,2,3]])\n",
    "b = np.array([39,34,26])\n",
    "X = np.linalg.solve(A,b)\n",
    "print('三元一次方程组的解：\\n',X)"
   ]
  }
 ],
 "metadata": {
  "kernelspec": {
   "display_name": "Python 3",
   "language": "python",
   "name": "python3"
  },
  "language_info": {
   "codemirror_mode": {
    "name": "ipython",
    "version": 3
   },
   "file_extension": ".py",
   "mimetype": "text/x-python",
   "name": "python",
   "nbconvert_exporter": "python",
   "pygments_lexer": "ipython3",
   "version": "3.8.6"
  }
 },
 "nbformat": 4,
 "nbformat_minor": 4
}
