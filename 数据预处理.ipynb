{
 "cells": [
  {
   "cell_type": "code",
   "execution_count": 1,
   "metadata": {},
   "outputs": [
    {
     "data": {
      "text/plain": [
       "'D:\\\\temp\\\\Jupyter'"
      ]
     },
     "execution_count": 1,
     "metadata": {},
     "output_type": "execute_result"
    }
   ],
   "source": [
    "%pwd"
   ]
  },
  {
   "cell_type": "code",
   "execution_count": 1,
   "metadata": {},
   "outputs": [],
   "source": [
    "import pandas as pd"
   ]
  },
  {
   "cell_type": "code",
   "execution_count": 2,
   "metadata": {},
   "outputs": [
    {
     "data": {
      "text/html": [
       "<div>\n",
       "<style scoped>\n",
       "    .dataframe tbody tr th:only-of-type {\n",
       "        vertical-align: middle;\n",
       "    }\n",
       "\n",
       "    .dataframe tbody tr th {\n",
       "        vertical-align: top;\n",
       "    }\n",
       "\n",
       "    .dataframe thead th {\n",
       "        text-align: right;\n",
       "    }\n",
       "</style>\n",
       "<table border=\"1\" class=\"dataframe\">\n",
       "  <thead>\n",
       "    <tr style=\"text-align: right;\">\n",
       "      <th></th>\n",
       "      <th>info_id</th>\n",
       "      <th>emp_id</th>\n",
       "      <th>number_consumers</th>\n",
       "      <th>mode</th>\n",
       "      <th>dining_table_id</th>\n",
       "      <th>dining_table_name</th>\n",
       "      <th>expenditure</th>\n",
       "      <th>dishes_count</th>\n",
       "      <th>accounts_payable</th>\n",
       "      <th>use_start_time</th>\n",
       "      <th>...</th>\n",
       "      <th>lock_time</th>\n",
       "      <th>cashier_id</th>\n",
       "      <th>pc_id</th>\n",
       "      <th>order_number</th>\n",
       "      <th>org_id</th>\n",
       "      <th>print_doc_bill_num</th>\n",
       "      <th>lock_table_info</th>\n",
       "      <th>order_status</th>\n",
       "      <th>phone</th>\n",
       "      <th>name</th>\n",
       "    </tr>\n",
       "  </thead>\n",
       "  <tbody>\n",
       "    <tr>\n",
       "      <th>0</th>\n",
       "      <td>417</td>\n",
       "      <td>1442</td>\n",
       "      <td>4</td>\n",
       "      <td>NaN</td>\n",
       "      <td>1501</td>\n",
       "      <td>1022</td>\n",
       "      <td>165</td>\n",
       "      <td>5</td>\n",
       "      <td>165</td>\n",
       "      <td>2016/8/1 11:05:36</td>\n",
       "      <td>...</td>\n",
       "      <td>2016/8/1 11:11:46</td>\n",
       "      <td>NaN</td>\n",
       "      <td>NaN</td>\n",
       "      <td>NaN</td>\n",
       "      <td>330</td>\n",
       "      <td>NaN</td>\n",
       "      <td>NaN</td>\n",
       "      <td>1</td>\n",
       "      <td>18688880641</td>\n",
       "      <td>苗宇怡</td>\n",
       "    </tr>\n",
       "    <tr>\n",
       "      <th>1</th>\n",
       "      <td>301</td>\n",
       "      <td>1095</td>\n",
       "      <td>3</td>\n",
       "      <td>NaN</td>\n",
       "      <td>1430</td>\n",
       "      <td>1031</td>\n",
       "      <td>321</td>\n",
       "      <td>6</td>\n",
       "      <td>321</td>\n",
       "      <td>2016/8/1 11:15:57</td>\n",
       "      <td>...</td>\n",
       "      <td>2016/8/1 11:31:55</td>\n",
       "      <td>NaN</td>\n",
       "      <td>NaN</td>\n",
       "      <td>NaN</td>\n",
       "      <td>328</td>\n",
       "      <td>NaN</td>\n",
       "      <td>NaN</td>\n",
       "      <td>1</td>\n",
       "      <td>18688880174</td>\n",
       "      <td>赵颖</td>\n",
       "    </tr>\n",
       "    <tr>\n",
       "      <th>2</th>\n",
       "      <td>413</td>\n",
       "      <td>1147</td>\n",
       "      <td>6</td>\n",
       "      <td>NaN</td>\n",
       "      <td>1488</td>\n",
       "      <td>1009</td>\n",
       "      <td>854</td>\n",
       "      <td>15</td>\n",
       "      <td>854</td>\n",
       "      <td>2016/8/1 12:42:52</td>\n",
       "      <td>...</td>\n",
       "      <td>2016/8/1 12:54:37</td>\n",
       "      <td>NaN</td>\n",
       "      <td>NaN</td>\n",
       "      <td>NaN</td>\n",
       "      <td>330</td>\n",
       "      <td>NaN</td>\n",
       "      <td>NaN</td>\n",
       "      <td>1</td>\n",
       "      <td>18688880276</td>\n",
       "      <td>徐毅凡</td>\n",
       "    </tr>\n",
       "    <tr>\n",
       "      <th>3</th>\n",
       "      <td>415</td>\n",
       "      <td>1166</td>\n",
       "      <td>4</td>\n",
       "      <td>NaN</td>\n",
       "      <td>1502</td>\n",
       "      <td>1023</td>\n",
       "      <td>466</td>\n",
       "      <td>10</td>\n",
       "      <td>466</td>\n",
       "      <td>2016/8/1 12:51:38</td>\n",
       "      <td>...</td>\n",
       "      <td>2016/8/1 13:08:20</td>\n",
       "      <td>NaN</td>\n",
       "      <td>NaN</td>\n",
       "      <td>NaN</td>\n",
       "      <td>330</td>\n",
       "      <td>NaN</td>\n",
       "      <td>NaN</td>\n",
       "      <td>1</td>\n",
       "      <td>18688880231</td>\n",
       "      <td>张大鹏</td>\n",
       "    </tr>\n",
       "    <tr>\n",
       "      <th>4</th>\n",
       "      <td>392</td>\n",
       "      <td>1094</td>\n",
       "      <td>10</td>\n",
       "      <td>NaN</td>\n",
       "      <td>1499</td>\n",
       "      <td>1020</td>\n",
       "      <td>704</td>\n",
       "      <td>24</td>\n",
       "      <td>704</td>\n",
       "      <td>2016/8/1 12:58:44</td>\n",
       "      <td>...</td>\n",
       "      <td>2016/8/1 13:07:16</td>\n",
       "      <td>NaN</td>\n",
       "      <td>NaN</td>\n",
       "      <td>NaN</td>\n",
       "      <td>330</td>\n",
       "      <td>NaN</td>\n",
       "      <td>NaN</td>\n",
       "      <td>1</td>\n",
       "      <td>18688880173</td>\n",
       "      <td>孙熙凯</td>\n",
       "    </tr>\n",
       "  </tbody>\n",
       "</table>\n",
       "<p>5 rows × 21 columns</p>\n",
       "</div>"
      ],
      "text/plain": [
       "   info_id  emp_id  number_consumers  mode  dining_table_id  \\\n",
       "0      417    1442                 4   NaN             1501   \n",
       "1      301    1095                 3   NaN             1430   \n",
       "2      413    1147                 6   NaN             1488   \n",
       "3      415    1166                 4   NaN             1502   \n",
       "4      392    1094                10   NaN             1499   \n",
       "\n",
       "   dining_table_name  expenditure  dishes_count  accounts_payable  \\\n",
       "0               1022          165             5               165   \n",
       "1               1031          321             6               321   \n",
       "2               1009          854            15               854   \n",
       "3               1023          466            10               466   \n",
       "4               1020          704            24               704   \n",
       "\n",
       "      use_start_time  ...          lock_time cashier_id  pc_id  order_number  \\\n",
       "0  2016/8/1 11:05:36  ...  2016/8/1 11:11:46        NaN    NaN           NaN   \n",
       "1  2016/8/1 11:15:57  ...  2016/8/1 11:31:55        NaN    NaN           NaN   \n",
       "2  2016/8/1 12:42:52  ...  2016/8/1 12:54:37        NaN    NaN           NaN   \n",
       "3  2016/8/1 12:51:38  ...  2016/8/1 13:08:20        NaN    NaN           NaN   \n",
       "4  2016/8/1 12:58:44  ...  2016/8/1 13:07:16        NaN    NaN           NaN   \n",
       "\n",
       "   org_id  print_doc_bill_num  lock_table_info  order_status        phone  \\\n",
       "0     330                 NaN              NaN             1  18688880641   \n",
       "1     328                 NaN              NaN             1  18688880174   \n",
       "2     330                 NaN              NaN             1  18688880276   \n",
       "3     330                 NaN              NaN             1  18688880231   \n",
       "4     330                 NaN              NaN             1  18688880173   \n",
       "\n",
       "   name  \n",
       "0   苗宇怡  \n",
       "1    赵颖  \n",
       "2   徐毅凡  \n",
       "3   张大鹏  \n",
       "4   孙熙凯  \n",
       "\n",
       "[5 rows x 21 columns]"
      ]
     },
     "execution_count": 2,
     "metadata": {},
     "output_type": "execute_result"
    }
   ],
   "source": [
    "order = pd.read_csv('meal_order_info.csv',\n",
    "        sep=',',encoding='gb18030') ##读取订单信息表\n",
    "order.head()"
   ]
  },
  {
   "cell_type": "code",
   "execution_count": 3,
   "metadata": {},
   "outputs": [
    {
     "data": {
      "text/plain": [
       "info_id                 int64\n",
       "emp_id                  int64\n",
       "number_consumers        int64\n",
       "mode                  float64\n",
       "dining_table_id         int64\n",
       "dining_table_name       int64\n",
       "expenditure             int64\n",
       "dishes_count            int64\n",
       "accounts_payable        int64\n",
       "use_start_time         object\n",
       "check_closed          float64\n",
       "lock_time              object\n",
       "cashier_id            float64\n",
       "pc_id                 float64\n",
       "order_number          float64\n",
       "org_id                  int64\n",
       "print_doc_bill_num    float64\n",
       "lock_table_info       float64\n",
       "order_status            int64\n",
       "phone                   int64\n",
       "name                   object\n",
       "dtype: object"
      ]
     },
     "execution_count": 3,
     "metadata": {},
     "output_type": "execute_result"
    }
   ],
   "source": [
    "order.dtypes"
   ]
  },
  {
   "cell_type": "code",
   "execution_count": 8,
   "metadata": {},
   "outputs": [
    {
     "data": {
      "text/html": [
       "<div>\n",
       "<style scoped>\n",
       "    .dataframe tbody tr th:only-of-type {\n",
       "        vertical-align: middle;\n",
       "    }\n",
       "\n",
       "    .dataframe tbody tr th {\n",
       "        vertical-align: top;\n",
       "    }\n",
       "\n",
       "    .dataframe thead th {\n",
       "        text-align: right;\n",
       "    }\n",
       "</style>\n",
       "<table border=\"1\" class=\"dataframe\">\n",
       "  <thead>\n",
       "    <tr style=\"text-align: right;\">\n",
       "      <th></th>\n",
       "      <th>detail_id</th>\n",
       "      <th>order_id</th>\n",
       "      <th>dishes_id</th>\n",
       "      <th>logicprn_name</th>\n",
       "      <th>parent_class_name</th>\n",
       "      <th>dishes_name</th>\n",
       "      <th>itemis_add</th>\n",
       "      <th>counts</th>\n",
       "      <th>amounts</th>\n",
       "      <th>cost</th>\n",
       "      <th>place_order_time</th>\n",
       "      <th>discount_amt</th>\n",
       "      <th>discount_reason</th>\n",
       "      <th>kick_back</th>\n",
       "      <th>add_inprice</th>\n",
       "      <th>add_info</th>\n",
       "      <th>bar_code</th>\n",
       "      <th>picture_file</th>\n",
       "      <th>emp_id</th>\n",
       "    </tr>\n",
       "  </thead>\n",
       "  <tbody>\n",
       "    <tr>\n",
       "      <th>0</th>\n",
       "      <td>2956</td>\n",
       "      <td>417</td>\n",
       "      <td>610062</td>\n",
       "      <td>NaN</td>\n",
       "      <td>NaN</td>\n",
       "      <td>蒜蓉生蚝</td>\n",
       "      <td>0</td>\n",
       "      <td>1</td>\n",
       "      <td>49</td>\n",
       "      <td>NaN</td>\n",
       "      <td>2016/8/111:05:00</td>\n",
       "      <td>NaN</td>\n",
       "      <td>NaN</td>\n",
       "      <td>NaN</td>\n",
       "      <td>0</td>\n",
       "      <td>NaN</td>\n",
       "      <td>NaN</td>\n",
       "      <td>caipu/104001.jpg</td>\n",
       "      <td>1442</td>\n",
       "    </tr>\n",
       "    <tr>\n",
       "      <th>1</th>\n",
       "      <td>2958</td>\n",
       "      <td>417</td>\n",
       "      <td>609957</td>\n",
       "      <td>NaN</td>\n",
       "      <td>NaN</td>\n",
       "      <td>蒙古烤羊腿</td>\n",
       "      <td>0</td>\n",
       "      <td>1</td>\n",
       "      <td>48</td>\n",
       "      <td>NaN</td>\n",
       "      <td>2016/8/111:07:00</td>\n",
       "      <td>NaN</td>\n",
       "      <td>NaN</td>\n",
       "      <td>NaN</td>\n",
       "      <td>0</td>\n",
       "      <td>NaN</td>\n",
       "      <td>NaN</td>\n",
       "      <td>caipu/202003.jpg</td>\n",
       "      <td>1442</td>\n",
       "    </tr>\n",
       "    <tr>\n",
       "      <th>2</th>\n",
       "      <td>2961</td>\n",
       "      <td>417</td>\n",
       "      <td>609950</td>\n",
       "      <td>NaN</td>\n",
       "      <td>NaN</td>\n",
       "      <td>大蒜苋菜</td>\n",
       "      <td>0</td>\n",
       "      <td>1</td>\n",
       "      <td>30</td>\n",
       "      <td>NaN</td>\n",
       "      <td>2016/8/111:07:00</td>\n",
       "      <td>NaN</td>\n",
       "      <td>NaN</td>\n",
       "      <td>NaN</td>\n",
       "      <td>0</td>\n",
       "      <td>NaN</td>\n",
       "      <td>NaN</td>\n",
       "      <td>caipu/303001.jpg</td>\n",
       "      <td>1442</td>\n",
       "    </tr>\n",
       "    <tr>\n",
       "      <th>3</th>\n",
       "      <td>2966</td>\n",
       "      <td>417</td>\n",
       "      <td>610038</td>\n",
       "      <td>NaN</td>\n",
       "      <td>NaN</td>\n",
       "      <td>芝麻烤紫菜</td>\n",
       "      <td>0</td>\n",
       "      <td>1</td>\n",
       "      <td>25</td>\n",
       "      <td>NaN</td>\n",
       "      <td>2016/8/111:11:00</td>\n",
       "      <td>NaN</td>\n",
       "      <td>NaN</td>\n",
       "      <td>NaN</td>\n",
       "      <td>0</td>\n",
       "      <td>NaN</td>\n",
       "      <td>NaN</td>\n",
       "      <td>caipu/105002.jpg</td>\n",
       "      <td>1442</td>\n",
       "    </tr>\n",
       "    <tr>\n",
       "      <th>4</th>\n",
       "      <td>2968</td>\n",
       "      <td>417</td>\n",
       "      <td>610003</td>\n",
       "      <td>NaN</td>\n",
       "      <td>NaN</td>\n",
       "      <td>蒜香包</td>\n",
       "      <td>0</td>\n",
       "      <td>1</td>\n",
       "      <td>13</td>\n",
       "      <td>NaN</td>\n",
       "      <td>2016/8/111:11:00</td>\n",
       "      <td>NaN</td>\n",
       "      <td>NaN</td>\n",
       "      <td>NaN</td>\n",
       "      <td>0</td>\n",
       "      <td>NaN</td>\n",
       "      <td>NaN</td>\n",
       "      <td>caipu/503002.jpg</td>\n",
       "      <td>1442</td>\n",
       "    </tr>\n",
       "  </tbody>\n",
       "</table>\n",
       "</div>"
      ],
      "text/plain": [
       "   detail_id  order_id  dishes_id  logicprn_name  parent_class_name  \\\n",
       "0       2956       417     610062            NaN                NaN   \n",
       "1       2958       417     609957            NaN                NaN   \n",
       "2       2961       417     609950            NaN                NaN   \n",
       "3       2966       417     610038            NaN                NaN   \n",
       "4       2968       417     610003            NaN                NaN   \n",
       "\n",
       "  dishes_name  itemis_add  counts  amounts  cost  place_order_time  \\\n",
       "0        蒜蓉生蚝           0       1       49   NaN  2016/8/111:05:00   \n",
       "1       蒙古烤羊腿           0       1       48   NaN  2016/8/111:07:00   \n",
       "2        大蒜苋菜           0       1       30   NaN  2016/8/111:07:00   \n",
       "3       芝麻烤紫菜           0       1       25   NaN  2016/8/111:11:00   \n",
       "4         蒜香包           0       1       13   NaN  2016/8/111:11:00   \n",
       "\n",
       "   discount_amt  discount_reason  kick_back  add_inprice  add_info  bar_code  \\\n",
       "0           NaN              NaN        NaN            0       NaN       NaN   \n",
       "1           NaN              NaN        NaN            0       NaN       NaN   \n",
       "2           NaN              NaN        NaN            0       NaN       NaN   \n",
       "3           NaN              NaN        NaN            0       NaN       NaN   \n",
       "4           NaN              NaN        NaN            0       NaN       NaN   \n",
       "\n",
       "       picture_file  emp_id  \n",
       "0  caipu/104001.jpg    1442  \n",
       "1  caipu/202003.jpg    1442  \n",
       "2  caipu/303001.jpg    1442  \n",
       "3  caipu/105002.jpg    1442  \n",
       "4  caipu/503002.jpg    1442  "
      ]
     },
     "execution_count": 8,
     "metadata": {},
     "output_type": "execute_result"
    }
   ],
   "source": [
    "detail = pd.read_csv('detail.csv',encoding='gb18030') ##读取用户信息表\n",
    "detail.head()"
   ]
  },
  {
   "cell_type": "code",
   "execution_count": 5,
   "metadata": {},
   "outputs": [
    {
     "data": {
      "text/plain": [
       "detail_id              int64\n",
       "order_id               int64\n",
       "dishes_id              int64\n",
       "logicprn_name        float64\n",
       "parent_class_name    float64\n",
       "dishes_name           object\n",
       "itemis_add             int64\n",
       "counts                 int64\n",
       "amounts                int64\n",
       "cost                 float64\n",
       "place_order_time      object\n",
       "discount_amt         float64\n",
       "discount_reason      float64\n",
       "kick_back            float64\n",
       "add_inprice            int64\n",
       "add_info             float64\n",
       "bar_code             float64\n",
       "picture_file          object\n",
       "emp_id                 int64\n",
       "dtype: object"
      ]
     },
     "execution_count": 5,
     "metadata": {},
     "output_type": "execute_result"
    }
   ],
   "source": [
    "detail.dtypes"
   ]
  },
  {
   "cell_type": "code",
   "execution_count": 6,
   "metadata": {},
   "outputs": [
    {
     "data": {
      "text/plain": [
       "info_id                 int64\n",
       "emp_id                  int64\n",
       "number_consumers        int64\n",
       "mode                  float64\n",
       "dining_table_id         int64\n",
       "dining_table_name       int64\n",
       "expenditure             int64\n",
       "dishes_count            int64\n",
       "accounts_payable        int64\n",
       "use_start_time         object\n",
       "check_closed          float64\n",
       "lock_time              object\n",
       "cashier_id            float64\n",
       "pc_id                 float64\n",
       "order_number          float64\n",
       "org_id                  int64\n",
       "print_doc_bill_num    float64\n",
       "lock_table_info       float64\n",
       "order_status            int64\n",
       "phone                   int64\n",
       "name                   object\n",
       "dtype: object"
      ]
     },
     "execution_count": 6,
     "metadata": {},
     "output_type": "execute_result"
    }
   ],
   "source": [
    "## 数据类型转换，存储部分数据\n",
    "order['info_id'] = order['info_id'].astype('int64')\n",
    "order['emp_id'] = order['emp_id'].astype('int64')\n",
    "order.dtypes"
   ]
  },
  {
   "cell_type": "code",
   "execution_count": 8,
   "metadata": {
    "tags": []
   },
   "outputs": [
    {
     "name": "stdout",
     "output_type": "stream",
     "text": [
      "两张表数据主键合并后的大小为： (10037, 39)\n"
     ]
    }
   ],
   "source": [
    "data = pd.merge(detail,order,left_on=['order_id','emp_id'],\n",
    "        right_on = ['info_id','emp_id'])\n",
    "print('两张表数据主键合并后的大小为：',data.shape)"
   ]
  },
  {
   "cell_type": "code",
   "execution_count": 9,
   "metadata": {},
   "outputs": [
    {
     "data": {
      "text/html": [
       "<div>\n",
       "<style scoped>\n",
       "    .dataframe tbody tr th:only-of-type {\n",
       "        vertical-align: middle;\n",
       "    }\n",
       "\n",
       "    .dataframe tbody tr th {\n",
       "        vertical-align: top;\n",
       "    }\n",
       "\n",
       "    .dataframe thead th {\n",
       "        text-align: right;\n",
       "    }\n",
       "</style>\n",
       "<table border=\"1\" class=\"dataframe\">\n",
       "  <thead>\n",
       "    <tr style=\"text-align: right;\">\n",
       "      <th></th>\n",
       "      <th>detail_id</th>\n",
       "      <th>order_id</th>\n",
       "      <th>dishes_id</th>\n",
       "      <th>logicprn_name</th>\n",
       "      <th>parent_class_name</th>\n",
       "      <th>dishes_name</th>\n",
       "      <th>itemis_add</th>\n",
       "      <th>counts</th>\n",
       "      <th>amounts</th>\n",
       "      <th>cost</th>\n",
       "      <th>...</th>\n",
       "      <th>lock_time</th>\n",
       "      <th>cashier_id</th>\n",
       "      <th>pc_id</th>\n",
       "      <th>order_number</th>\n",
       "      <th>org_id</th>\n",
       "      <th>print_doc_bill_num</th>\n",
       "      <th>lock_table_info</th>\n",
       "      <th>order_status</th>\n",
       "      <th>phone</th>\n",
       "      <th>name</th>\n",
       "    </tr>\n",
       "  </thead>\n",
       "  <tbody>\n",
       "    <tr>\n",
       "      <th>0</th>\n",
       "      <td>2956</td>\n",
       "      <td>417</td>\n",
       "      <td>610062</td>\n",
       "      <td>NaN</td>\n",
       "      <td>NaN</td>\n",
       "      <td>蒜蓉生蚝</td>\n",
       "      <td>0</td>\n",
       "      <td>1</td>\n",
       "      <td>49</td>\n",
       "      <td>NaN</td>\n",
       "      <td>...</td>\n",
       "      <td>2016/8/1 11:11:46</td>\n",
       "      <td>NaN</td>\n",
       "      <td>NaN</td>\n",
       "      <td>NaN</td>\n",
       "      <td>330</td>\n",
       "      <td>NaN</td>\n",
       "      <td>NaN</td>\n",
       "      <td>1</td>\n",
       "      <td>18688880641</td>\n",
       "      <td>苗宇怡</td>\n",
       "    </tr>\n",
       "    <tr>\n",
       "      <th>1</th>\n",
       "      <td>2958</td>\n",
       "      <td>417</td>\n",
       "      <td>609957</td>\n",
       "      <td>NaN</td>\n",
       "      <td>NaN</td>\n",
       "      <td>蒙古烤羊腿</td>\n",
       "      <td>0</td>\n",
       "      <td>1</td>\n",
       "      <td>48</td>\n",
       "      <td>NaN</td>\n",
       "      <td>...</td>\n",
       "      <td>2016/8/1 11:11:46</td>\n",
       "      <td>NaN</td>\n",
       "      <td>NaN</td>\n",
       "      <td>NaN</td>\n",
       "      <td>330</td>\n",
       "      <td>NaN</td>\n",
       "      <td>NaN</td>\n",
       "      <td>1</td>\n",
       "      <td>18688880641</td>\n",
       "      <td>苗宇怡</td>\n",
       "    </tr>\n",
       "    <tr>\n",
       "      <th>2</th>\n",
       "      <td>2961</td>\n",
       "      <td>417</td>\n",
       "      <td>609950</td>\n",
       "      <td>NaN</td>\n",
       "      <td>NaN</td>\n",
       "      <td>大蒜苋菜</td>\n",
       "      <td>0</td>\n",
       "      <td>1</td>\n",
       "      <td>30</td>\n",
       "      <td>NaN</td>\n",
       "      <td>...</td>\n",
       "      <td>2016/8/1 11:11:46</td>\n",
       "      <td>NaN</td>\n",
       "      <td>NaN</td>\n",
       "      <td>NaN</td>\n",
       "      <td>330</td>\n",
       "      <td>NaN</td>\n",
       "      <td>NaN</td>\n",
       "      <td>1</td>\n",
       "      <td>18688880641</td>\n",
       "      <td>苗宇怡</td>\n",
       "    </tr>\n",
       "    <tr>\n",
       "      <th>3</th>\n",
       "      <td>2966</td>\n",
       "      <td>417</td>\n",
       "      <td>610038</td>\n",
       "      <td>NaN</td>\n",
       "      <td>NaN</td>\n",
       "      <td>芝麻烤紫菜</td>\n",
       "      <td>0</td>\n",
       "      <td>1</td>\n",
       "      <td>25</td>\n",
       "      <td>NaN</td>\n",
       "      <td>...</td>\n",
       "      <td>2016/8/1 11:11:46</td>\n",
       "      <td>NaN</td>\n",
       "      <td>NaN</td>\n",
       "      <td>NaN</td>\n",
       "      <td>330</td>\n",
       "      <td>NaN</td>\n",
       "      <td>NaN</td>\n",
       "      <td>1</td>\n",
       "      <td>18688880641</td>\n",
       "      <td>苗宇怡</td>\n",
       "    </tr>\n",
       "    <tr>\n",
       "      <th>4</th>\n",
       "      <td>2968</td>\n",
       "      <td>417</td>\n",
       "      <td>610003</td>\n",
       "      <td>NaN</td>\n",
       "      <td>NaN</td>\n",
       "      <td>蒜香包</td>\n",
       "      <td>0</td>\n",
       "      <td>1</td>\n",
       "      <td>13</td>\n",
       "      <td>NaN</td>\n",
       "      <td>...</td>\n",
       "      <td>2016/8/1 11:11:46</td>\n",
       "      <td>NaN</td>\n",
       "      <td>NaN</td>\n",
       "      <td>NaN</td>\n",
       "      <td>330</td>\n",
       "      <td>NaN</td>\n",
       "      <td>NaN</td>\n",
       "      <td>1</td>\n",
       "      <td>18688880641</td>\n",
       "      <td>苗宇怡</td>\n",
       "    </tr>\n",
       "  </tbody>\n",
       "</table>\n",
       "<p>5 rows × 39 columns</p>\n",
       "</div>"
      ],
      "text/plain": [
       "   detail_id  order_id  dishes_id  logicprn_name  parent_class_name  \\\n",
       "0       2956       417     610062            NaN                NaN   \n",
       "1       2958       417     609957            NaN                NaN   \n",
       "2       2961       417     609950            NaN                NaN   \n",
       "3       2966       417     610038            NaN                NaN   \n",
       "4       2968       417     610003            NaN                NaN   \n",
       "\n",
       "  dishes_name  itemis_add  counts  amounts  cost  ...          lock_time  \\\n",
       "0        蒜蓉生蚝           0       1       49   NaN  ...  2016/8/1 11:11:46   \n",
       "1       蒙古烤羊腿           0       1       48   NaN  ...  2016/8/1 11:11:46   \n",
       "2        大蒜苋菜           0       1       30   NaN  ...  2016/8/1 11:11:46   \n",
       "3       芝麻烤紫菜           0       1       25   NaN  ...  2016/8/1 11:11:46   \n",
       "4         蒜香包           0       1       13   NaN  ...  2016/8/1 11:11:46   \n",
       "\n",
       "   cashier_id  pc_id  order_number  org_id  print_doc_bill_num  \\\n",
       "0         NaN    NaN           NaN     330                 NaN   \n",
       "1         NaN    NaN           NaN     330                 NaN   \n",
       "2         NaN    NaN           NaN     330                 NaN   \n",
       "3         NaN    NaN           NaN     330                 NaN   \n",
       "4         NaN    NaN           NaN     330                 NaN   \n",
       "\n",
       "   lock_table_info order_status        phone  name  \n",
       "0              NaN            1  18688880641   苗宇怡  \n",
       "1              NaN            1  18688880641   苗宇怡  \n",
       "2              NaN            1  18688880641   苗宇怡  \n",
       "3              NaN            1  18688880641   苗宇怡  \n",
       "4              NaN            1  18688880641   苗宇怡  \n",
       "\n",
       "[5 rows x 39 columns]"
      ]
     },
     "execution_count": 9,
     "metadata": {},
     "output_type": "execute_result"
    }
   ],
   "source": [
    "data.head()"
   ]
  },
  {
   "cell_type": "code",
   "execution_count": 28,
   "metadata": {},
   "outputs": [
    {
     "name": "stdout",
     "output_type": "stream",
     "text": [
      "去重前菜品总数为： 10037\n",
      "方法一去重后菜品总数为： 145\n"
     ]
    }
   ],
   "source": [
    "import pandas as pd\n",
    "detail = pd.read_csv('detail.csv',  index_col=0,encoding = 'gbk')\n",
    "##方法一\n",
    "##定义去重函数\n",
    "def delRep(list1):\n",
    "    list2=[]\n",
    "    for i in list1:\n",
    "        if i not in list2:\n",
    "            list2.append(i)\n",
    "    return list2 \n",
    "## 去重\n",
    "dishes=list(detail['dishes_name']) ##将dishes_name从数据框中提取出来\n",
    "print('去重前菜品总数为：',len(dishes)) \n",
    "dish = delRep(dishes) ##使用自定义的去重函数去重\n",
    "print('方法一去重后菜品总数为：',len(dish))"
   ]
  },
  {
   "cell_type": "code",
   "execution_count": 29,
   "metadata": {},
   "outputs": [
    {
     "name": "stdout",
     "output_type": "stream",
     "text": [
      "去重前菜品总数为： 10037\n",
      "方法二去重后菜品总数为： 145\n"
     ]
    }
   ],
   "source": [
    "##方法二\n",
    "print('去重前菜品总数为：',len(dishes)) \n",
    "dish_set = set(dishes) ##利用set的特性去重\n",
    "print('方法二去重后菜品总数为：',len(dish_set))"
   ]
  },
  {
   "cell_type": "code",
   "execution_count": 38,
   "metadata": {},
   "outputs": [
    {
     "data": {
      "text/plain": [
       "{'38度剑南春',\n",
       " '42度海之蓝',\n",
       " '50度古井贡酒',\n",
       " '52度泸州老窖',\n",
       " '53度茅台',\n",
       " '一品香酥藕',\n",
       " '三丝鳝鱼',\n",
       " '三色凉拌手撕兔',\n",
       " '不加一滴油的酸奶蛋糕',\n",
       " '五彩藕苗',\n",
       " '五彩豆',\n",
       " '五色糯米饭(七色)',\n",
       " '五香酱驴肉',\n",
       " '倒立蒸梭子蟹',\n",
       " '党参黄芪炖牛尾',\n",
       " '农夫山泉NFC果汁100%橙汁',\n",
       " '冬瓜炒苦瓜',\n",
       " '冰糖红豆薏米粥',\n",
       " '冰镇花螺',\n",
       " '凉拌海带豆芽紫菜',\n",
       " '凉拌菠菜',\n",
       " '凉拌萝卜丝',\n",
       " '凉拌蒜蓉西兰花',\n",
       " '剁椒鱼头',\n",
       " '北冰洋汽水',\n",
       " '南瓜枸杞小饼干',\n",
       " '南瓜芝士包',\n",
       " '咖啡奶香面包',\n",
       " '哈尔滨啤酒罐装',\n",
       " '啤酒鸭',\n",
       " '土豆西红柿汤面',\n",
       " '培根紫菜卷',\n",
       " '培根花菜',\n",
       " '大理石奶油蛋糕',\n",
       " '大蒜苋菜',\n",
       " '姜葱炒花蟹',\n",
       " '孜然羊排',\n",
       " '宝宝版牛肉肠粉',\n",
       " '小炒羊腰',\n",
       " '小米南瓜粥',\n",
       " '山药养生粥',\n",
       " '干锅田鸡',\n",
       " '广式虾仁肠粉',\n",
       " '张裕葡萄酒张裕赤霞珠干红',\n",
       " '快炒黄鳝',\n",
       " '意文柠檬汁',\n",
       " '打卤面',\n",
       " '拌土豆丝',\n",
       " '木须豌豆',\n",
       " '杭椒鸡珍',\n",
       " '核桃葡萄干土司',\n",
       " '桂圆枸杞鸽子汤',\n",
       " '桂圆肉红豆八宝饭',\n",
       " '水煮鱼',\n",
       " '油焖麻辣虾',\n",
       " '法国波尔多AOC干红葡萄酒原',\n",
       " '泡椒凤爪',\n",
       " '海带结豆腐汤',\n",
       " '清炒菊花菜',\n",
       " '清爽拌凉面',\n",
       " '清蒸海鱼',\n",
       " '清蒸蝶鱼',\n",
       " '炝炒大白菜',\n",
       " '焖猪手',\n",
       " '照烧鸡腿',\n",
       " '爆炒双丝',\n",
       " '爆炒猪肝',\n",
       " '爆炒鳝碌',\n",
       " '爆炒鸡翅',\n",
       " '牛奶卷',\n",
       " '牛尾汤',\n",
       " '牛肉鸡蛋肠粉',\n",
       " '特醇嘉士伯啤酒罐装',\n",
       " '独家薄荷鲜虾牛肉卷',\n",
       " '玉竹南北杏鸭腿汤',\n",
       " '番茄有机花菜',\n",
       " '番茄炖牛腩',\n",
       " '番茄炖秋葵',\n",
       " '番茄甘蓝',\n",
       " '番茄蛋汤',\n",
       " '白斩鸡',\n",
       " '白胡椒胡萝卜羊肉汤',\n",
       " '白饭/大碗',\n",
       " '白饭/小碗',\n",
       " '百威啤酒罐装',\n",
       " '百里香奶油烤紅酒牛肉',\n",
       " '百里香奶油烤红酒牛肉',\n",
       " '皮蛋瘦肉粥',\n",
       " '盘蟹蒸蛋',\n",
       " '糖醋蕃茄溜青花',\n",
       " '紫薯面包卷',\n",
       " '红酒土豆烧鸭腿',\n",
       " '红酒炖羊肉',\n",
       " '纸杯蛋糕',\n",
       " '美妙绝伦之白莲花',\n",
       " '老式面包',\n",
       " '肉丁茄子',\n",
       " '自制猪肉脯',\n",
       " '芝士烩波士顿龙虾',\n",
       " '芝麻烤紫菜',\n",
       " '花蛤蒸蛋',\n",
       " '芹菜炒腰花',\n",
       " '芹黄鳝丝',\n",
       " '葡萄奶酥(超酥香的饼干)',\n",
       " '葱姜炒蟹',\n",
       " '葱油凉拌藕片',\n",
       " '蒙古烤羊腿',\n",
       " '蒜蓉生蚝',\n",
       " '蒜香包',\n",
       " '蒜香辣花甲',\n",
       " '蓝带啤酒罐装',\n",
       " '蛋挞',\n",
       " '西瓜胡萝卜沙拉',\n",
       " '谷稻小庄',\n",
       " '豌豆薯仔猪骨汤',\n",
       " '超人气广式肠粉',\n",
       " '路易拉菲红酒干红',\n",
       " '辣炒海带丝',\n",
       " '辣炒田螺',\n",
       " '辣炒花蛤',\n",
       " '辣炒鱿鱼',\n",
       " '避风塘炒蟹',\n",
       " '酸辣汤面',\n",
       " '酸辣藕丁',\n",
       " '重庆特色油烧兔',\n",
       " '金玉良缘',\n",
       " '铁板牛肉',\n",
       " '长城窖酿解百纳红酒干红葡萄酒',\n",
       " '露露无糖杏仁露',\n",
       " '青岛啤酒罐装',\n",
       " '青炒扁豆',\n",
       " '香烤牛排',\n",
       " '香菇鸡肉粥',\n",
       " '香菇鹌鹑蛋',\n",
       " '香辣爆羊肝',\n",
       " '香辣腐乳炒虾',\n",
       " '香酥两吃大虾',\n",
       " '鱼香肉丝拌面',\n",
       " '鲜美鳝鱼',\n",
       " '鸡蛋、肉末肠粉',\n",
       " '麻辣小龙虾',\n",
       " '黄尾袋鼠西拉子红葡萄酒',\n",
       " '黄油曲奇饼干',\n",
       " '黄花菜炒木耳',\n",
       " '黑米恋上葡萄'}"
      ]
     },
     "execution_count": 38,
     "metadata": {},
     "output_type": "execute_result"
    }
   ],
   "source": [
    "dish_set\n"
   ]
  },
  {
   "cell_type": "code",
   "execution_count": 36,
   "metadata": {},
   "outputs": [
    {
     "name": "stdout",
     "output_type": "stream",
     "text": [
      "drop_duplicates方法去重之后菜品总数为： 145\n",
      "去重之前订单详情表的形状为： (10037, 18)\n",
      "依照订单编号，会员编号去重之后订单详情表大小为: (942, 18)\n"
     ]
    }
   ],
   "source": [
    "##对dishes_name去重\n",
    "dishes_name = detail['dishes_name'].drop_duplicates()\n",
    "print('drop_duplicates方法去重之后菜品总数为：',len(dishes_name))\n",
    "\n",
    "print('去重之前订单详情表的形状为：', detail.shape)\n",
    "shapeDet = detail.drop_duplicates(subset = ['order_id',\n",
    "    'emp_id']).shape\n",
    "print('依照订单编号，会员编号去重之后订单详情表大小为:', shapeDet)"
   ]
  },
  {
   "cell_type": "code",
   "execution_count": 39,
   "metadata": {},
   "outputs": [
    {
     "name": "stdout",
     "output_type": "stream",
     "text": [
      "detail的特征相等矩阵的前5行5列为：\n",
      "                   order_id dishes_id logicprn_name parent_class_name  \\\n",
      "order_id              True     False         False             False   \n",
      "dishes_id            False      True         False             False   \n",
      "logicprn_name        False     False          True              True   \n",
      "parent_class_name    False     False          True              True   \n",
      "dishes_name          False     False         False             False   \n",
      "\n",
      "                  dishes_name  \n",
      "order_id                False  \n",
      "dishes_id               False  \n",
      "logicprn_name           False  \n",
      "parent_class_name       False  \n",
      "dishes_name              True  \n"
     ]
    }
   ],
   "source": [
    "##定义求取特征是否完全相同的矩阵的函数\n",
    "def FeatureEquals(df):\n",
    "    dfEquals=pd.DataFrame([],columns=df.columns,index=df.columns)\n",
    "    for i in df.columns:\n",
    "       for j in df.columns:\n",
    "           dfEquals.loc[i,j]=df.loc[:,i].equals(df.loc[:,j])\n",
    "    return dfEquals\n",
    "## 应用上述函数\n",
    "detEquals=FeatureEquals(detail)\n",
    "print('detail的特征相等矩阵的前5行5列为：\\n',detEquals.iloc[:5,:5])"
   ]
  },
  {
   "cell_type": "code",
   "execution_count": 40,
   "metadata": {},
   "outputs": [
    {
     "name": "stdout",
     "output_type": "stream",
     "text": [
      "需要删除的列为： ['parent_class_name', 'cost', 'discount_amt', 'discount_reason', 'kick_back', 'add_info', 'bar_code', 'add_inprice']\n",
      "删除多余列后detail的特征数目为： 10\n"
     ]
    }
   ],
   "source": [
    "##遍历所有数据\n",
    "lenDet = detEquals.shape[0]\n",
    "dupCol = []\n",
    "for k in range(lenDet):\n",
    "    for l in range(k+1,lenDet):\n",
    "        if detEquals.iloc[k,l] & (detEquals.columns[l] not in dupCol):\n",
    "            dupCol.append(detEquals.columns[l])\n",
    "##进行去重操作\n",
    "print('需要删除的列为：',dupCol)\n",
    "detail.drop(dupCol,axis=1,inplace=True)\n",
    "print('删除多余列后detail的特征数目为：',detail.shape[1])"
   ]
  },
  {
   "cell_type": "code",
   "execution_count": 42,
   "metadata": {},
   "outputs": [
    {
     "name": "stdout",
     "output_type": "stream",
     "text": [
      "detail每个特征缺失的数目为：\n",
      " order_id                0\n",
      "dishes_id               0\n",
      "logicprn_name       10037\n",
      "dishes_name             0\n",
      "itemis_add              0\n",
      "counts                  0\n",
      "amounts                 0\n",
      "place_order_time        0\n",
      "picture_file            0\n",
      "emp_id                  0\n",
      "dtype: int64\n",
      "detail每个特征非缺失的数目为：\n",
      " order_id            10037\n",
      "dishes_id           10037\n",
      "logicprn_name           0\n",
      "dishes_name         10037\n",
      "itemis_add          10037\n",
      "counts              10037\n",
      "amounts             10037\n",
      "place_order_time    10037\n",
      "picture_file        10037\n",
      "emp_id              10037\n",
      "dtype: int64\n"
     ]
    }
   ],
   "source": [
    "print('detail每个特征缺失的数目为：\\n',detail.isnull().sum())\n",
    "print('detail每个特征非缺失的数目为：\\n',detail.notnull().sum())\n"
   ]
  },
  {
   "cell_type": "code",
   "execution_count": 43,
   "metadata": {},
   "outputs": [
    {
     "name": "stdout",
     "output_type": "stream",
     "text": [
      "去除缺失的列前detail的形状为： (10037, 10)\n",
      "去除缺失的列后detail的形状为： (10037, 9)\n"
     ]
    }
   ],
   "source": [
    "print('去除缺失的列前detail的形状为：', detail.shape)\n",
    "print('去除缺失的列后detail的形状为：',\n",
    "    detail.dropna(axis = 1,how ='any').shape)"
   ]
  },
  {
   "cell_type": "code",
   "execution_count": 44,
   "metadata": {},
   "outputs": [
    {
     "name": "stdout",
     "output_type": "stream",
     "text": [
      "detail每个特征缺失的数目为：\n",
      " order_id            0\n",
      "dishes_id           0\n",
      "logicprn_name       0\n",
      "dishes_name         0\n",
      "itemis_add          0\n",
      "counts              0\n",
      "amounts             0\n",
      "place_order_time    0\n",
      "picture_file        0\n",
      "emp_id              0\n",
      "dtype: int64\n"
     ]
    }
   ],
   "source": [
    "detail = detail.fillna(-99)\n",
    "print('detail每个特征缺失的数目为：\\n',detail.isnull().sum())"
   ]
  },
  {
   "cell_type": "code",
   "execution_count": 45,
   "metadata": {},
   "outputs": [
    {
     "name": "stdout",
     "output_type": "stream",
     "text": [
      "当x为6、7时，使用线性插值y1为： [ 76. 102.]\n",
      "当x为6、7时，使用线性插值y2为： [13. 15.]\n"
     ]
    }
   ],
   "source": [
    "## 线性插值\n",
    "import numpy as np\n",
    "from scipy.interpolate import interp1d\n",
    "x=np.array([1,2,3,4,5,8,9,10]) ##创建自变量x\n",
    "y1=np.array([2,8,18,32,50,128,162,200]) ##创建因变量y1\n",
    "y2=np.array([3,5,7,9,11,17,19,21]) ##创建因变量y2\n",
    "LinearInsValue1 = interp1d(x,y1,kind='linear') ##线性插值拟合x,y1\n",
    "LinearInsValue2 = interp1d(x,y2,kind='linear') ##线性插值拟合x,y2\n",
    "print('当x为6、7时，使用线性插值y1为：',LinearInsValue1([6,7]))\n",
    "print('当x为6、7时，使用线性插值y2为：',LinearInsValue2([6,7]))"
   ]
  },
  {
   "cell_type": "code",
   "execution_count": 46,
   "metadata": {},
   "outputs": [
    {
     "name": "stdout",
     "output_type": "stream",
     "text": [
      "当x为6,7时，使用拉格朗日插值y1为： [72. 98.]\n",
      "当x为6,7时，使用拉格朗日插值y2为： [13. 15.]\n"
     ]
    }
   ],
   "source": [
    "## 拉格朗日插值\n",
    "from scipy.interpolate import lagrange\n",
    "LargeInsValue1 = lagrange(x,y1) ##拉格朗日插值拟合x,y1\n",
    "LargeInsValue2 = lagrange(x,y2) ##拉格朗日插值拟合x,y2\n",
    "print('当x为6,7时，使用拉格朗日插值y1为：',LargeInsValue1([6,7]))\n",
    "print('当x为6,7时，使用拉格朗日插值y2为：',LargeInsValue2([6,7]))"
   ]
  },
  {
   "cell_type": "code",
   "execution_count": 57,
   "metadata": {},
   "outputs": [
    {
     "name": "stdout",
     "output_type": "stream",
     "text": [
      "当x为6、7时，使用线性插值y1为： [72. 98.]\n",
      "当x为6、7时，使用线性插值y2为： [13. 15.]\n",
      "当x为6、7时，使用线性插值y1为： [ 50. 128.]\n"
     ]
    }
   ],
   "source": [
    "##样条插值\n",
    "from scipy.interpolate import interp1d\n",
    "\n",
    "SplineInsValue3 = interp1d(x,y1,kind='quadratic') ##线性插值拟合x,y1\n",
    "SplineInsValue4 = interp1d(x,y2,kind='slinear') ##线性插值拟合x,y2\n",
    "SplineInsValue5 = interp1d(x,y1,kind='nearest') ##线性插值拟合x,y2\n",
    "print('当x为6、7时，使用线性插值y1为：',SplineInsValue3([6,7]))\n",
    "print('当x为6、7时，使用线性插值y2为：',SplineInsValue4([6,7]))\n",
    "print('当x为6、7时，使用线性插值y1为：',SplineInsValue5([6,7]))\n"
   ]
  },
  {
   "cell_type": "code",
   "execution_count": 58,
   "metadata": {},
   "outputs": [
    {
     "name": "stdout",
     "output_type": "stream",
     "text": [
      "使用拉依达准则判定异常值个数为: 209\n",
      "异常值的最大值为： 10\n",
      "异常值的最小值为： 3\n"
     ]
    }
   ],
   "source": [
    "## 定义拉依达准则识别异常值函数\n",
    "def outRange(Ser1):\n",
    "    boolInd = (Ser1.mean()-3*Ser1.std()>Ser1) | \\\n",
    "    (Ser1.mean()+3*Ser1.var()< Ser1)\n",
    "    index = np.arange(Ser1.shape[0])[boolInd]\n",
    "    outrange = Ser1.iloc[index]\n",
    "    return outrange\n",
    "outlier = outRange(detail['counts'])\n",
    "print('使用拉依达准则判定异常值个数为:',outlier.shape[0])\n",
    "print('异常值的最大值为：',outlier.max())\n",
    "print('异常值的最小值为：',outlier.min())"
   ]
  },
  {
   "cell_type": "code",
   "execution_count": 70,
   "metadata": {},
   "outputs": [
    {
     "name": "stdout",
     "output_type": "stream",
     "text": [
      "进行去重操作前订单详情表的形状为： (10037, 18)\n",
      "进行去重操作后订单详情表的形状为： (10037, 10)\n",
      "detail每个特征缺失的率为：\n",
      " order_id              0.0%\n",
      "dishes_id             0.0%\n",
      "logicprn_name       100.0%\n",
      "dishes_name           0.0%\n",
      "itemis_add            0.0%\n",
      "counts                0.0%\n",
      "amounts               0.0%\n",
      "place_order_time      0.0%\n",
      "picture_file          0.0%\n",
      "emp_id                0.0%\n",
      "dtype: object\n",
      "经过缺失值处理后订单详情表各特征缺失值的数目为：\n",
      " order_id            0\n",
      "dishes_id           0\n",
      "dishes_name         0\n",
      "itemis_add          0\n",
      "counts              0\n",
      "amounts             0\n",
      "place_order_time    0\n",
      "picture_file        0\n",
      "emp_id              0\n",
      "dtype: int64\n",
      "销售量最小值为： 1.0\n",
      "销售量最大值为： 1.0\n",
      "售价最小值为： 1.0\n",
      "售价最大值为： 99.0\n"
     ]
    },
    {
     "name": "stderr",
     "output_type": "stream",
     "text": [
      "c:\\users\\jiaming\\appdata\\local\\programs\\python\\python38\\lib\\site-packages\\pandas\\core\\indexing.py:670: SettingWithCopyWarning: \n",
      "A value is trying to be set on a copy of a slice from a DataFrame\n",
      "\n",
      "See the caveats in the documentation: https://pandas.pydata.org/pandas-docs/stable/user_guide/indexing.html#returning-a-view-versus-a-copy\n",
      "  iloc._setitem_with_indexer(indexer, value)\n",
      "c:\\users\\jiaming\\appdata\\local\\programs\\python\\python38\\lib\\site-packages\\pandas\\core\\indexing.py:670: SettingWithCopyWarning: \n",
      "A value is trying to be set on a copy of a slice from a DataFrame\n",
      "\n",
      "See the caveats in the documentation: https://pandas.pydata.org/pandas-docs/stable/user_guide/indexing.html#returning-a-view-versus-a-copy\n",
      "  iloc._setitem_with_indexer(indexer, value)\n",
      "c:\\users\\jiaming\\appdata\\local\\programs\\python\\python38\\lib\\site-packages\\pandas\\core\\indexing.py:670: SettingWithCopyWarning: \n",
      "A value is trying to be set on a copy of a slice from a DataFrame\n",
      "\n",
      "See the caveats in the documentation: https://pandas.pydata.org/pandas-docs/stable/user_guide/indexing.html#returning-a-view-versus-a-copy\n",
      "  iloc._setitem_with_indexer(indexer, value)\n",
      "c:\\users\\jiaming\\appdata\\local\\programs\\python\\python38\\lib\\site-packages\\pandas\\core\\indexing.py:670: SettingWithCopyWarning: \n",
      "A value is trying to be set on a copy of a slice from a DataFrame\n",
      "\n",
      "See the caveats in the documentation: https://pandas.pydata.org/pandas-docs/stable/user_guide/indexing.html#returning-a-view-versus-a-copy\n",
      "  iloc._setitem_with_indexer(indexer, value)\n"
     ]
    }
   ],
   "source": [
    "import pandas as pd\n",
    "detail = pd.read_csv('detail.csv',  index_col=0,encoding = 'gbk')\n",
    "print('进行去重操作前订单详情表的形状为：',detail.shape)\n",
    "##样本去重\n",
    "detail.drop_duplicates(inplace = True)\n",
    "##特征去重\n",
    "def FeatureEquals(df):\n",
    "    ##定义求取特征是否完全相同的矩阵的函数\n",
    "    dfEquals=pd.DataFrame([],columns=df.columns,index=df.columns)\n",
    "    for i in df.columns:\n",
    "        for j in df.columns:\n",
    "            dfEquals.loc[i,j]=df.loc[:,i].equals(df.loc[:,j])\n",
    "    return dfEquals\n",
    "detEquals=FeatureEquals(detail)## 应用上述函数\n",
    "##遍历所有数据\n",
    "lenDet = detEquals.shape[0]\n",
    "dupCol = []\n",
    "for k in range(lenDet):\n",
    "    for l in range(k+1,lenDet):\n",
    "        if detEquals.iloc[k,l] & (detEquals.columns[l] not in dupCol):\n",
    "            dupCol.append(detEquals.columns[l])\n",
    "##删除重复列\n",
    "detail.drop(dupCol,axis=1,inplace=True)\n",
    "print('进行去重操作后订单详情表的形状为：',detail.shape)\n",
    "\n",
    "\n",
    "#统计各个特征的缺失率\n",
    "naRate = (detail.isnull().sum()/ \\\n",
    "    detail.shape[0]*100).astype('str')+'%'\n",
    "print('detail每个特征缺失的率为：\\n',naRate)\n",
    "##删除全部均为缺失的列\n",
    "detail.dropna(axis = 1,how = 'all',inplace = True)\n",
    "print('经过缺失值处理后订单详情表各特征缺失值的数目为：\\n',\n",
    "    detail.isnull().sum())\n",
    "\n",
    "##定义异常值识别与处理函数\n",
    "def outRange(Ser1):\n",
    "    QL = Ser1.quantile(0.25)\n",
    "    QU = Ser1.quantile(0.75)\n",
    "    IQR = QU-QL\n",
    "    Ser1.loc[Ser1>(QU+1.5*IQR)] = QU\n",
    "    Ser1.loc[Ser1<(QL-1.5*IQR)] = QL\n",
    "    return Ser1\n",
    "## 处理销售量和售价的异常值\n",
    "detail['counts'] = outRange(detail['counts'])\n",
    "detail['amounts'] = outRange(detail['amounts'])\n",
    "##查看处理后的销售量和售价的最小值，最大值\n",
    "print('销售量最小值为：', detail['counts'].min())\n",
    "print('销售量最大值为：', detail['counts'].max())\n",
    "print('售价最小值为：', detail['amounts'].min())\n",
    "print('售价最大值为：', detail['amounts'].max())"
   ]
  },
  {
   "cell_type": "code",
   "execution_count": 71,
   "metadata": {},
   "outputs": [
    {
     "name": "stdout",
     "output_type": "stream",
     "text": [
      "离差标准化之前销量和售价数据为：\n",
      "            counts  amounts\n",
      "detail_id                 \n",
      "2956            1       49\n",
      "2958            1       48\n",
      "2961            1       30\n",
      "2966            1       25\n",
      "2968            1       13\n",
      "离差标准化之后销量和售价数据为：\n",
      "            counts   amounts\n",
      "detail_id                  \n",
      "2956          0.0  0.271186\n",
      "2958          0.0  0.265537\n",
      "2961          0.0  0.163842\n",
      "2966          0.0  0.135593\n",
      "2968          0.0  0.067797\n"
     ]
    }
   ],
   "source": [
    "import pandas as pd\n",
    "import numpy as np\n",
    "detail = pd.read_csv('detail.csv',index_col=0,encoding = 'gbk')\n",
    "## 自定义离差标准化函数\n",
    "def MinMaxScale(data):\n",
    "    data=(data-data.min())/(data.max()-data.min())\n",
    "    return data\n",
    "##对菜品订单表售价和销量做离差标准化\n",
    "data1=MinMaxScale(detail['counts'])\n",
    "data2=MinMaxScale(detail ['amounts'])\n",
    "data3=pd.concat([data1,data2],axis=1)\n",
    "print('离差标准化之前销量和售价数据为：\\n',\n",
    "    detail[['counts','amounts']].head())\n",
    "print('离差标准化之后销量和售价数据为：\\n',data3.head())"
   ]
  },
  {
   "cell_type": "code",
   "execution_count": 72,
   "metadata": {},
   "outputs": [
    {
     "name": "stdout",
     "output_type": "stream",
     "text": [
      "标准差标准化之前销量和售价数据为：\n",
      "            counts  amounts\n",
      "detail_id                 \n",
      "2956            1       49\n",
      "2958            1       48\n",
      "2961            1       30\n",
      "2966            1       25\n",
      "2968            1       13\n",
      "标准差标准化之后销量和售价数据为：\n",
      "              counts   amounts\n",
      "detail_id                    \n",
      "2956      -0.177571  0.116671\n",
      "2958      -0.177571  0.088751\n",
      "2961      -0.177571 -0.413826\n",
      "2966      -0.177571 -0.553431\n",
      "2968      -0.177571 -0.888482\n"
     ]
    }
   ],
   "source": [
    "\n",
    "##自定义标准差标准化函数\n",
    "def StandardScaler(data):\n",
    "    data=(data-data.mean())/data.std()\n",
    "    return data\n",
    "##对菜品订单表售价和销量做标准化\n",
    "data4=StandardScaler(detail['counts'])\n",
    "data5=StandardScaler(detail['amounts'])\n",
    "data6=pd.concat([data4,data5],axis=1)\n",
    "print('标准差标准化之前销量和售价数据为：\\n',\n",
    "    detail[['counts','amounts']].head())\n",
    "print('标准差标准化之后销量和售价数据为：\\n',data6.head())"
   ]
  },
  {
   "cell_type": "code",
   "execution_count": 73,
   "metadata": {},
   "outputs": [
    {
     "name": "stdout",
     "output_type": "stream",
     "text": [
      "小数定标标准化之前的销量和售价数据：\n",
      "            counts  amounts\n",
      "detail_id                 \n",
      "2956            1       49\n",
      "2958            1       48\n",
      "2961            1       30\n",
      "2966            1       25\n",
      "2968            1       13\n",
      "小数定标标准化之后的销量和售价数据：\n",
      "            counts  amounts\n",
      "detail_id                 \n",
      "2956          0.1    0.049\n",
      "2958          0.1    0.048\n",
      "2961          0.1    0.030\n",
      "2966          0.1    0.025\n",
      "2968          0.1    0.013\n"
     ]
    }
   ],
   "source": [
    "\n",
    "##自定义小数定标差标准化函数\n",
    "def DecimalScaler(data):\n",
    "    data=data/10**np.ceil(np.log10(data.abs().max()))\n",
    "    return data\n",
    "##对菜品订单表售价和销量做标准化\n",
    "data7=DecimalScaler(detail['counts'])\n",
    "data8=DecimalScaler(detail['amounts'])\n",
    "data9=pd.concat([data7,data8],axis=1)\n",
    "print('小数定标标准化之前的销量和售价数据：\\n',\n",
    "    detail[['counts','amounts']].head())\n",
    "print('小数定标标准化之后的销量和售价数据：\\n',data9.head())"
   ]
  },
  {
   "cell_type": "code",
   "execution_count": 74,
   "metadata": {},
   "outputs": [
    {
     "name": "stdout",
     "output_type": "stream",
     "text": [
      "标准差标准化之后销量和销量数据为： \n",
      "              counts   amounts\n",
      "detail_id                    \n",
      "2956      -0.177571  0.116671\n",
      "2958      -0.177571  0.088751\n",
      "2961      -0.177571 -0.413826\n",
      "2966      -0.177571 -0.553431\n",
      "2968      -0.177571 -0.888482\n",
      "1899      -0.177571  1.205587\n",
      "1902      -0.177571  0.284197\n",
      "1906      -0.177571  1.205587\n",
      "1907      -0.177571  0.088751\n",
      "1908      -0.177571 -0.357984\n"
     ]
    }
   ],
   "source": [
    "##自定义标准差标准化函数\n",
    "def StandardScaler(data):\n",
    "    data=(data-data.mean())/data.std()\n",
    "    return data\n",
    "##对菜品订单表售价和销量做标准化\n",
    "data4=StandardScaler(detail['counts'])\n",
    "data5=StandardScaler(detail['amounts'])\n",
    "data6=pd.concat([data4,data5],axis = 1)\n",
    "print('标准差标准化之后销量和销量数据为：','\\n',data6.head(10))"
   ]
  },
  {
   "cell_type": "code",
   "execution_count": 76,
   "metadata": {},
   "outputs": [
    {
     "name": "stdout",
     "output_type": "stream",
     "text": [
      "哑变量处理前的数据为：\n",
      " 0     蒜蓉生蚝\n",
      "1    蒙古烤羊腿\n",
      "2     大蒜苋菜\n",
      "3    芝麻烤紫菜\n",
      "4      蒜香包\n",
      "5      白斩鸡\n",
      "Name: dishes_name, dtype: object\n",
      "哑变量处理后的数据为：\n",
      "    大蒜苋菜  白斩鸡  芝麻烤紫菜  蒙古烤羊腿  蒜蓉生蚝  蒜香包\n",
      "0     0    0      0      0     1    0\n",
      "1     0    0      0      1     0    0\n",
      "2     1    0      0      0     0    0\n",
      "3     0    0      1      0     0    0\n",
      "4     0    0      0      0     0    1\n",
      "5     0    1      0      0     0    0\n"
     ]
    }
   ],
   "source": [
    "detail = pd.read_csv('detail.csv',encoding = 'gbk')\n",
    "data=detail.loc[0:5,'dishes_name']   ##抽取部分数据做演示\n",
    "print('哑变量处理前的数据为：\\n',data)\n",
    "print('哑变量处理后的数据为：\\n',pd.get_dummies(data))\n"
   ]
  },
  {
   "cell_type": "code",
   "execution_count": 77,
   "metadata": {},
   "outputs": [
    {
     "name": "stdout",
     "output_type": "stream",
     "text": [
      "离散化后5条记录售价分布为：\n",
      " (0.823, 36.4]     5461\n",
      "(36.4, 71.8]      3157\n",
      "(71.8, 107.2]      839\n",
      "(142.6, 178.0]     426\n",
      "(107.2, 142.6]     154\n",
      "Name: amounts, dtype: int64\n"
     ]
    }
   ],
   "source": [
    "price = pd.cut(detail['amounts'],5)\n",
    "print('离散化后5条记录售价分布为：\\n' ,price.value_counts())"
   ]
  },
  {
   "cell_type": "code",
   "execution_count": 78,
   "metadata": {},
   "outputs": [
    {
     "name": "stdout",
     "output_type": "stream",
     "text": [
      "菜品数据等频法离散化后各个类别数目分布状况为： \n",
      " (18.0, 32.0]     2107\n",
      "(39.0, 58.0]     2080\n",
      "(32.0, 39.0]     1910\n",
      "(1.0, 18.0]      1891\n",
      "(58.0, 178.0]    1863\n",
      "Name: amounts, dtype: int64\n"
     ]
    }
   ],
   "source": [
    "##自定义等频法离散化函数\n",
    "def SameRateCut(data,k):\n",
    "    w=data.quantile(np.arange(0,1+1.0/k,1.0/k))\n",
    "    data=pd.cut(data,w)\n",
    "    return data\n",
    "result=SameRateCut(detail['amounts'],5).value_counts()   ##菜品售价等频法离散化\n",
    "print('菜品数据等频法离散化后各个类别数目分布状况为：','\\n',result)"
   ]
  },
  {
   "cell_type": "code",
   "execution_count": 89,
   "metadata": {},
   "outputs": [
    {
     "name": "stdout",
     "output_type": "stream",
     "text": [
      "            0\n",
      "2   22.309501\n",
      "4   43.509866\n",
      "1   73.945304\n",
      "3  131.858137\n",
      "菜品售价聚类离散化后各个类别数目分布状况为： \n",
      " (22.31, 43.51]       3690\n",
      "(43.51, 73.945]      2474\n",
      "(0.0, 22.31]         2454\n",
      "(73.945, 131.858]     993\n",
      "(131.858, 178.0]      426\n",
      "Name: amounts, dtype: int64\n"
     ]
    }
   ],
   "source": [
    "#自定义数据k-Means聚类离散化函数\n",
    "def KmeanCut(data,k):\n",
    "    from sklearn.cluster import KMeans #引入KMeans\n",
    "    kmodel=KMeans(n_clusters=k)   #建立模型\n",
    "    kmodel.fit(data.values.reshape((len(data), 1)))    #训练模型\n",
    "    c=pd.DataFrame(kmodel.cluster_centers_).sort_values(0)   #输出聚类中心并排序_\n",
    "    w=c.rolling(2).mean().iloc[1:]    #相邻两项求中点，作为边界点\n",
    "#     c=pd.DataFrame([22,34,56,43])\n",
    "#     c.rolling(2).mean()\n",
    "    w=[0]+list(w[0])+[data.max()]    #把首末边界点加上\n",
    "    data=pd.cut(data,w)\n",
    "    return data\n",
    "#菜品售价等频法离散化\n",
    "result=KmeanCut(detail['amounts'],5).value_counts()\n",
    "print('菜品售价聚类离散化后各个类别数目分布状况为：','\\n',result)"
   ]
  },
  {
   "cell_type": "code",
   "execution_count": 98,
   "metadata": {},
   "outputs": [
    {
     "name": "stdout",
     "output_type": "stream",
     "text": [
      "分组后的订单详情表为： <pandas.core.groupby.generic.DataFrameGroupBy object at 0x000001C45E385F70>\n"
     ]
    }
   ],
   "source": [
    "detail = pd.read_excel('meal_order_detail.xlsx')\n",
    "detailGroup = detail[['order_id','counts','amounts']].groupby(by = 'order_id')\n",
    "print('分组后的订单详情表为：',detailGroup)"
   ]
  },
  {
   "cell_type": "code",
   "execution_count": 99,
   "metadata": {},
   "outputs": [
    {
     "name": "stdout",
     "output_type": "stream",
     "text": [
      "订单详情表分组后前5组每组的均值为：\n",
      "             counts    amounts\n",
      "order_id                     \n",
      "137       1.500000  32.333333\n",
      "165       1.166667  52.944444\n",
      "166       1.400000  48.200000\n",
      "171       1.428571  36.285714\n",
      "177       1.000000  34.250000\n",
      "订单详情表分组后前5组每组的标准差为：\n",
      "             counts    amounts\n",
      "order_id                     \n",
      "137       1.224745  35.200379\n",
      "165       0.383482  52.193613\n",
      "166       0.547723  41.829415\n",
      "171       1.133893  19.267540\n",
      "177       0.000000  15.019432\n",
      "订单详情表分组后前5组每组的大小为： \n",
      " order_id\n",
      "137     6\n",
      "165    18\n",
      "166     5\n",
      "171     7\n",
      "177     4\n",
      "dtype: int64\n"
     ]
    }
   ],
   "source": [
    "print('订单详情表分组后前5组每组的均值为：\\n', \n",
    "      detailGroup.mean().head())\n",
    "\n",
    "print('订单详情表分组后前5组每组的标准差为：\\n', \n",
    "      detailGroup.std().head())\n",
    "\n",
    "print('订单详情表分组后前5组每组的大小为：','\\n', \n",
    "      detailGroup.size().head())"
   ]
  },
  {
   "cell_type": "code",
   "execution_count": 100,
   "metadata": {},
   "outputs": [
    {
     "name": "stdout",
     "output_type": "stream",
     "text": [
      "订单详情表的菜品销量与售价的和与均值为：\n",
      "            counts        amounts\n",
      "sum   3088.000000  125992.000000\n",
      "mean     1.111191      45.337172\n"
     ]
    }
   ],
   "source": [
    "print('订单详情表的菜品销量与售价的和与均值为：\\n',\n",
    "      detail[['counts','amounts']].agg([np.sum,np.mean]))"
   ]
  },
  {
   "cell_type": "code",
   "execution_count": 101,
   "metadata": {},
   "outputs": [
    {
     "name": "stdout",
     "output_type": "stream",
     "text": [
      "订单详情表的菜品销量总和与售价的均值为：\n",
      " counts     3088.000000\n",
      "amounts      45.337172\n",
      "dtype: float64\n"
     ]
    }
   ],
   "source": [
    "print('订单详情表的菜品销量总和与售价的均值为：\\n',\n",
    "      detail.agg({'counts':np.sum,'amounts':np.mean}))"
   ]
  },
  {
   "cell_type": "code",
   "execution_count": 102,
   "metadata": {},
   "outputs": [
    {
     "name": "stdout",
     "output_type": "stream",
     "text": [
      "菜品订单详情表的菜品销量总和与售价的总和与均值为：\n",
      "       counts        amounts\n",
      "mean     NaN      45.337172\n",
      "sum   3088.0  125992.000000\n"
     ]
    }
   ],
   "source": [
    "print('菜品订单详情表的菜品销量总和与售价的总和与均值为：\\n',\n",
    "      detail.agg({'counts':np.sum,'amounts':[np.mean,np.sum]}))"
   ]
  },
  {
   "cell_type": "code",
   "execution_count": 103,
   "metadata": {},
   "outputs": [
    {
     "name": "stdout",
     "output_type": "stream",
     "text": [
      "菜品订单详情表的菜品销量两倍总和为： \n",
      " counts    6176\n",
      "dtype: int64\n"
     ]
    }
   ],
   "source": [
    "##自定义函数求两倍的和\n",
    "def DoubleSum(data):\n",
    "    s = data.sum()*2\n",
    "    return s\n",
    "print('菜品订单详情表的菜品销量两倍总和为：','\\n',\n",
    "      detail.agg({'counts':DoubleSum},axis = 0))\n",
    "  "
   ]
  },
  {
   "cell_type": "code",
   "execution_count": 104,
   "metadata": {},
   "outputs": [
    {
     "name": "stdout",
     "output_type": "stream",
     "text": [
      "订单详情表的菜品销量两倍总和为：\n",
      "    counts\n",
      "0       2\n",
      "1       2\n",
      "2       2\n",
      "3       2\n",
      "4       2\n"
     ]
    }
   ],
   "source": [
    "##自定义函数求两倍的和\n",
    "def DoubleSum1(data):\n",
    "    s = np.sum(data)*2\n",
    "    return s\n",
    "print('订单详情表的菜品销量两倍总和为：\\n',\n",
    "      detail.agg({'counts':DoubleSum1},axis = 0).head())  #自定义函数单个单个序列无法使用np内置的函数"
   ]
  },
  {
   "cell_type": "code",
   "execution_count": 105,
   "metadata": {},
   "outputs": [
    {
     "name": "stdout",
     "output_type": "stream",
     "text": [
      "订单详情表的菜品销量与售价的和的两倍为：\n",
      " counts       6176\n",
      "amounts    251984\n",
      "dtype: int64\n"
     ]
    }
   ],
   "source": [
    "print('订单详情表的菜品销量与售价的和的两倍为：\\n',\n",
    "      detail[['counts','amounts']].agg(DoubleSum1))"
   ]
  },
  {
   "cell_type": "code",
   "execution_count": 106,
   "metadata": {},
   "outputs": [
    {
     "name": "stdout",
     "output_type": "stream",
     "text": [
      "订单详情表分组后前3组每组的均值为：\n",
      "             counts    amounts\n",
      "order_id                     \n",
      "137       1.500000  32.333333\n",
      "165       1.166667  52.944444\n",
      "166       1.400000  48.200000\n",
      "订单详情表分组后前3组每组的标准差为：\n",
      "             counts    amounts\n",
      "order_id                     \n",
      "137       1.224745  35.200379\n",
      "165       0.383482  52.193613\n",
      "166       0.547723  41.829415\n"
     ]
    }
   ],
   "source": [
    "print('订单详情表分组后前3组每组的均值为：\\n', \n",
    "      detailGroup.agg(np.mean).head(3))\n",
    "\n",
    "print('订单详情表分组后前3组每组的标准差为：\\n', \n",
    "      detailGroup.agg(np.std).head(3))"
   ]
  },
  {
   "cell_type": "code",
   "execution_count": 107,
   "metadata": {},
   "outputs": [
    {
     "data": {
      "text/plain": [
       "detail_id                     int64\n",
       "order_id                      int64\n",
       "dishes_id                     int64\n",
       "logicprn_name               float64\n",
       "parent_class_name           float64\n",
       "dishes_name                  object\n",
       "itemis_add                    int64\n",
       "counts                        int64\n",
       "amounts                       int64\n",
       "cost                        float64\n",
       "place_order_time     datetime64[ns]\n",
       "discount_amt                float64\n",
       "discount_reason             float64\n",
       "kick_back                   float64\n",
       "add_inprice                   int64\n",
       "add_info                    float64\n",
       "bar_code                    float64\n",
       "picture_file                 object\n",
       "emp_id                        int64\n",
       "dtype: object"
      ]
     },
     "execution_count": 107,
     "metadata": {},
     "output_type": "execute_result"
    }
   ],
   "source": [
    "detail.dtypes"
   ]
  },
  {
   "cell_type": "code",
   "execution_count": 108,
   "metadata": {},
   "outputs": [
    {
     "name": "stdout",
     "output_type": "stream",
     "text": [
      "订单详情分组前3组每组菜品总数和售价均值为：\n",
      "           counts    amounts\n",
      "order_id                   \n",
      "137            9  32.333333\n",
      "165           21  52.944444\n",
      "166            7  48.200000\n"
     ]
    }
   ],
   "source": [
    "print('订单详情分组前3组每组菜品总数和售价均值为：\\n', \n",
    "      detailGroup.agg({'counts':np.sum,'amounts':np.mean}).head(3))"
   ]
  },
  {
   "cell_type": "code",
   "execution_count": 109,
   "metadata": {},
   "outputs": [
    {
     "name": "stdout",
     "output_type": "stream",
     "text": [
      "订单详情表的菜品销量与售价的均值为：\n",
      " counts      1.111191\n",
      "amounts    45.337172\n",
      "dtype: float64\n",
      "订单详情表分组后前3组每组的均值为： \n",
      "           order_id    counts    amounts\n",
      "order_id                               \n",
      "137          137.0  1.500000  32.333333\n",
      "165          165.0  1.166667  52.944444\n",
      "166          166.0  1.400000  48.200000\n",
      "订单详情表分组后前3组每组的标准差为： \n",
      "           order_id    counts    amounts\n",
      "order_id                               \n",
      "137            0.0  1.118034  32.133402\n",
      "165            0.0  0.372678  50.723074\n",
      "166            0.0  0.489898  37.413367\n"
     ]
    }
   ],
   "source": [
    "print('订单详情表的菜品销量与售价的均值为：\\n',\n",
    "      detail[['counts','amounts']].apply(np.mean))\n",
    "print('订单详情表分组后前3组每组的均值为：','\\n', detailGroup.apply(np.mean).head(3))\n",
    "print('订单详情表分组后前3组每组的标准差为：','\\n', detailGroup.apply(np.std).head(3))\n",
    "#apply方法传入的函数智能作用域整个dataframe或者series，无法向agg一样可以对不同字段应用不同函数来获得不同的结果。"
   ]
  },
  {
   "cell_type": "code",
   "execution_count": 111,
   "metadata": {},
   "outputs": [
    {
     "name": "stdout",
     "output_type": "stream",
     "text": [
      "订单详情表的菜品销量与售价的两倍为：\n",
      "    counts  amounts\n",
      "0       2       98\n",
      "1       2       96\n",
      "2       2       60\n",
      "3       2       50\n",
      "4       2       26\n",
      "5       2      176\n",
      "6       2      110\n",
      "7       2      176\n",
      "8       2       96\n",
      "9       2       64\n"
     ]
    }
   ],
   "source": [
    "#transform方法对整个dataframe的所有元素进行操作，transform只有一个阐述func，表示对dataframe进行的操作\n",
    "print('订单详情表的菜品销量与售价的两倍为：\\n',\n",
    "      detail[['counts','amounts']].transform(lambda x:x*2).head(10))"
   ]
  },
  {
   "cell_type": "code",
   "execution_count": 113,
   "metadata": {},
   "outputs": [
    {
     "name": "stderr",
     "output_type": "stream",
     "text": [
      "<ipython-input-113-96801fa9b571>:3: RuntimeWarning: invalid value encountered in double_scalars\n",
      "  detailGroup.transform(lambda x:(x.mean()-x.min())/(x.max()-x.min())).tail())\n"
     ]
    },
    {
     "name": "stdout",
     "output_type": "stream",
     "text": [
      "订单详情表分组后实现组内离差标准化后前五行为：\n",
      "       counts   amounts\n",
      "2774     NaN  0.430147\n",
      "2775     NaN  0.430147\n",
      "2776     NaN  0.430147\n",
      "2777     NaN  0.430147\n",
      "2778     NaN  0.430147\n"
     ]
    }
   ],
   "source": [
    "# transform还能够对分组后的数据进行操作，例如：\n",
    "print('订单详情表分组后实现组内离差标准化后前五行为：\\n', \n",
    "      detailGroup.transform(lambda x:(x.mean()-x.min())/(x.max()-x.min())).tail())"
   ]
  },
  {
   "cell_type": "code",
   "execution_count": 114,
   "metadata": {},
   "outputs": [
    {
     "name": "stdout",
     "output_type": "stream",
     "text": [
      "以order_id作为分组键创建的订单透视表为：\n",
      "             amounts    counts\n",
      "order_id                     \n",
      "137       32.333333  1.500000\n",
      "165       52.944444  1.166667\n",
      "166       48.200000  1.400000\n",
      "171       36.285714  1.428571\n",
      "177       34.250000  1.000000\n"
     ]
    }
   ],
   "source": [
    "detail = pd.read_excel('meal_order_detail.xlsx')\n",
    "detailPivot = pd.pivot_table(detail[['order_id','counts','amounts']], index = 'order_id')\n",
    "print('以order_id作为分组键创建的订单透视表为：\\n',detailPivot.head())"
   ]
  },
  {
   "cell_type": "code",
   "execution_count": 115,
   "metadata": {},
   "outputs": [
    {
     "name": "stdout",
     "output_type": "stream",
     "text": [
      "以order_id作为分组键创建的订单销量与售价总和透视表为：\n",
      "           amounts  counts\n",
      "order_id                 \n",
      "137           194       9\n",
      "165           953      21\n",
      "166           241       7\n",
      "171           254      10\n",
      "177           137       4\n"
     ]
    }
   ],
   "source": [
    "#通过aggfunc改变聚合函数\n",
    "detailPivot1 = pd.pivot_table(detail[['order_id','counts','amounts']], index = 'order_id',aggfunc = np.sum)\n",
    "print('以order_id作为分组键创建的订单销量与售价总和透视表为：\\n',\n",
    "       detailPivot1.head())"
   ]
  },
  {
   "cell_type": "code",
   "execution_count": 116,
   "metadata": {},
   "outputs": [
    {
     "name": "stdout",
     "output_type": "stream",
     "text": [
      "以order_id和dishes_name作为分组键创建的订单销量与售价总和透视表为：\n",
      "                           amounts  counts\n",
      "order_id dishes_name                     \n",
      "137      农夫山泉NFC果汁100%橙汁        6       1\n",
      "         凉拌菠菜                  27       1\n",
      "         番茄炖牛腩\\r\\n             35       1\n",
      "         白饭/小碗                  1       4\n",
      "         西瓜胡萝卜沙拉               26       1\n"
     ]
    }
   ],
   "source": [
    "#index可以有多个\n",
    "detailPivot2 = pd.pivot_table(detail[[\n",
    "      'order_id','dishes_name',\n",
    "      'counts','amounts']],\n",
    "      index = ['order_id','dishes_name'],\n",
    "      aggfunc = np.sum)\n",
    "print('以order_id和dishes_name作为分组键创建的订单\\\n",
    "销量与售价总和透视表为：\\n',detailPivot2.head())"
   ]
  },
  {
   "cell_type": "code",
   "execution_count": 117,
   "metadata": {},
   "outputs": [
    {
     "name": "stdout",
     "output_type": "stream",
     "text": [
      "以order_id和dishes_name作为行列分组键创建的透视表前5行4列为：\n",
      "             amounts                        \n",
      "dishes_name  42度海之蓝  北冰洋汽水  38度剑南春  50度古井贡酒\n",
      "order_id                                   \n",
      "137             NaN     NaN     NaN     NaN\n",
      "165             NaN     NaN    80.0     NaN\n",
      "166             NaN     NaN     NaN     NaN\n",
      "171             NaN     NaN     NaN     NaN\n",
      "177             NaN     NaN     NaN     NaN\n"
     ]
    }
   ],
   "source": [
    "#通过设置columns参数指定列分组\n",
    "detailPivot2 = pd.pivot_table(detail[[\n",
    "      'order_id','dishes_name','counts','amounts']],\n",
    "      index = 'order_id',\n",
    "      columns = 'dishes_name',\n",
    "      aggfunc = np.sum)\n",
    "print('以order_id和dishes_name作为行列分组键创建的\\\n",
    "透视表前5行4列为：\\n',detailPivot2.iloc[:5,:4])"
   ]
  },
  {
   "cell_type": "code",
   "execution_count": 118,
   "metadata": {},
   "outputs": [
    {
     "name": "stdout",
     "output_type": "stream",
     "text": [
      "以order_id作为行分组键counts作为值创建的透视表前5行为：\n",
      "           counts\n",
      "order_id        \n",
      "137            9\n",
      "165           21\n",
      "166            7\n",
      "171           10\n",
      "177            4\n"
     ]
    }
   ],
   "source": [
    "#当数据列很多时，若要只显示关心的列的时候可以使用values参数\n",
    "detailPivot4 = pd.pivot_table(detail[[\n",
    "      'order_id','dishes_name','counts','amounts']],\n",
    "      index = 'order_id',\n",
    "      values = 'counts',\n",
    "      aggfunc = np.sum)\n",
    "print('以order_id作为行分组键counts作为值创建的\\\n",
    "透视表前5行为：\\n',detailPivot4.head())"
   ]
  },
  {
   "cell_type": "code",
   "execution_count": 119,
   "metadata": {},
   "outputs": [
    {
     "name": "stdout",
     "output_type": "stream",
     "text": [
      "空值填0后以order_id和dishes_name为行列分组键创建透视表前5行4列为：\n",
      "             amounts                        \n",
      "dishes_name  42度海之蓝  北冰洋汽水  38度剑南春  50度古井贡酒\n",
      "order_id                                   \n",
      "137               0       0       0       0\n",
      "165               0       0      80       0\n",
      "166               0       0       0       0\n",
      "171               0       0       0       0\n",
      "177               0       0       0       0\n"
     ]
    }
   ],
   "source": [
    "#当某些数据点不存在时会出现NAN，可以指定，fill_value进行填充\n",
    "detailPivot5 = pd.pivot_table(detail[[\n",
    "      'order_id','dishes_name','counts','amounts']],\n",
    "      index = 'order_id',\n",
    "      columns = 'dishes_name',\n",
    "      aggfunc = np.sum,fill_value = 0)\n",
    "print('空值填0后以order_id和dishes_name为行列分组键\\\n",
    "创建透视表前5行4列为：\\n',detailPivot5.iloc[:5,:4])"
   ]
  },
  {
   "cell_type": "code",
   "execution_count": 120,
   "metadata": {},
   "outputs": [
    {
     "name": "stdout",
     "output_type": "stream",
     "text": [
      "添加margins后以order_id和dishes_name为分组键的透视表前5行后4列为：\n",
      "             counts                  \n",
      "dishes_name 黄油曲奇饼干 黄花菜炒木耳 黑米恋上葡萄 All\n",
      "order_id                            \n",
      "137              0      0      0   9\n",
      "165              0      1      0  21\n",
      "166              0      0      0   7\n",
      "171              0      0      0  10\n",
      "177              0      0      0   4\n"
     ]
    }
   ],
   "source": [
    "#增加margins参数，可以获得汇集列\n",
    "detailPivot6 = pd.pivot_table(detail[[\n",
    "      'order_id','dishes_name','counts','amounts']],\n",
    "      index = 'order_id',columns = 'dishes_name',\n",
    "      aggfunc = np.sum,fill_value = 0,\n",
    "      margins = True)\n",
    "print('添加margins后以order_id和dishes_name为分组键\\\n",
    "的透视表前5行后4列为：\\n',detailPivot6.iloc[:5,-4:])"
   ]
  },
  {
   "cell_type": "code",
   "execution_count": 121,
   "metadata": {},
   "outputs": [
    {
     "name": "stdout",
     "output_type": "stream",
     "text": [
      "以order_id和dishes_name为分组键counts为值的透视表前5行5列为：\n",
      " dishes_name   42度海之蓝   北冰洋汽水   38度剑南春   50度古井贡酒  52度泸州老窖 \n",
      "order_id                                                 \n",
      "137              NaN      NaN      NaN      NaN       NaN\n",
      "165              NaN      NaN      1.0      NaN       NaN\n",
      "166              NaN      NaN      NaN      NaN       NaN\n",
      "171              NaN      NaN      NaN      NaN       NaN\n",
      "177              NaN      NaN      NaN      NaN       NaN\n"
     ]
    }
   ],
   "source": [
    "detailCross = pd.crosstab(\n",
    "      index=detail['order_id'],\n",
    "      columns=detail['dishes_name'],\n",
    "      values = detail['counts'],aggfunc = np.sum)\n",
    "print('以order_id和dishes_name为分组键\\\n",
    "counts为值的透视表前5行5列为：\\n',detailCross.iloc[:5,:5])"
   ]
  },
  {
   "cell_type": "code",
   "execution_count": 122,
   "metadata": {},
   "outputs": [
    {
     "name": "stdout",
     "output_type": "stream",
     "text": [
      "订单详情表单日菜品成交总额与总数透视表前5行5列为：\n",
      "             amounts  counts\n",
      "date                       \n",
      "2016-08-01     9366     233\n",
      "2016-08-02     6125     151\n",
      "2016-08-03     6890     192\n",
      "2016-08-04     7549     169\n",
      "2016-08-05     8671     224\n"
     ]
    }
   ],
   "source": [
    "#单日菜品成交总额\n",
    "detail = pd.read_excel('meal_order_detail.xlsx')\n",
    "detail['place_order_time'] = pd.to_datetime(detail['place_order_time'])\n",
    "detail['date'] = [i.date() for i in detail['place_order_time']]\n",
    "PivotDetail = pd.pivot_table(detail[['date','dishes_name','counts','amounts']],\n",
    "      index ='date',aggfunc = np.sum,margins = True)\n",
    "print('订单详情表单日菜品成交总额与总数透视表前5行5列为：\\n',\n",
    "      PivotDetail.head())"
   ]
  },
  {
   "cell_type": "code",
   "execution_count": 123,
   "metadata": {},
   "outputs": [
    {
     "name": "stdout",
     "output_type": "stream",
     "text": [
      "订单详情表单日单个菜品成交总额交叉表后5行5列为：\n",
      " dishes_name  黄尾袋鼠西拉子红葡萄酒  黄油曲奇饼干  黄花菜炒木耳  黑米恋上葡萄     All\n",
      "date                                                    \n",
      "2016-08-07         230.0    32.0   105.0    99.0   31306\n",
      "2016-08-08          46.0     NaN     NaN    33.0    6532\n",
      "2016-08-09         138.0     NaN    35.0    99.0    7155\n",
      "2016-08-10          46.0     NaN    70.0    33.0   10231\n",
      "All                736.0    80.0   525.0   561.0  125992\n"
     ]
    }
   ],
   "source": [
    "# #单个菜品单日成交总额\n",
    "CrossDetail = pd.crosstab(\n",
    "      index=detail['date'],\n",
    "      columns=detail['dishes_name'],\n",
    "      values = detail['amounts'],\n",
    "      aggfunc = np.sum,margins = True)\n",
    "print('订单详情表单日单个菜品成交总额交叉表后5行5列为：\\n',\n",
    "      CrossDetail.iloc[-5:,-5:])"
   ]
  },
  {
   "cell_type": "code",
   "execution_count": null,
   "metadata": {},
   "outputs": [],
   "source": []
  }
 ],
 "metadata": {
  "kernelspec": {
   "display_name": "Python 3",
   "language": "python",
   "name": "python3"
  },
  "language_info": {
   "codemirror_mode": {
    "name": "ipython",
    "version": 3
   },
   "file_extension": ".py",
   "mimetype": "text/x-python",
   "name": "python",
   "nbconvert_exporter": "python",
   "pygments_lexer": "ipython3",
   "version": "3.8.5"
  }
 },
 "nbformat": 4,
 "nbformat_minor": 4
}
