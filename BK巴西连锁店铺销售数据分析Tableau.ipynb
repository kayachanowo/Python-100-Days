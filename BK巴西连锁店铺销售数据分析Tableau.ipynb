{
 "cells": [
  {
   "cell_type": "code",
   "execution_count": null,
   "metadata": {},
   "outputs": [],
   "source": [
    "# 导入相关包\n",
    "import numpy as np\n",
    "import pandas as pd\n",
    "pd.options.mode.chained_assignment = None\n",
    "#这是巴西某4S汽车连锁店的实际销售数据，大小约3.5G，包含了从2017年3月31日到2020年4月1日大约3000万行的销售数据\n",
    "# 本案例数据下载百度网盘地址："
   ]
  },
  {
   "cell_type": "code",
   "execution_count": null,
   "metadata": {},
   "outputs": [],
   "source": [
    "# 读取数据，设置分割符号\n",
    "df = pd.read_csv(\"d:/temp/Sales Report.csv\", iterator=True, sep=';')\n",
    "# data = df.get_chunk(3000000)\n",
    "data = df.get_chunk(30000000)"
   ]
  },
  {
   "cell_type": "code",
   "execution_count": null,
   "metadata": {},
   "outputs": [],
   "source": [
    "del data\n"
   ]
  },
  {
   "cell_type": "code",
   "execution_count": null,
   "metadata": {},
   "outputs": [],
   "source": [
    "data = data.sample(n=3000000)\n",
    "data.to_csv(\"d:/temp/Jupyter/baxishuju.csv\")\n",
    "# tp = pd.read_csv('Sales Report.csv', sep='\\t', iterator=True, chunksize=1000)\n",
    "# df = pd.concat(tp, ignore_index=True)"
   ]
  },
  {
   "cell_type": "code",
   "execution_count": null,
   "metadata": {},
   "outputs": [],
   "source": [
    "data=pd.read_csv(\"d:/temp/Jupyter/baxishuju.csv\")\n",
    "data.info()"
   ]
  },
  {
   "cell_type": "code",
   "execution_count": null,
   "metadata": {},
   "outputs": [],
   "source": [
    "data.sample(2)"
   ]
  },
  {
   "cell_type": "code",
   "execution_count": null,
   "metadata": {},
   "outputs": [],
   "source": [
    "data.dtypes"
   ]
  },
  {
   "cell_type": "code",
   "execution_count": null,
   "metadata": {},
   "outputs": [],
   "source": [
    "# 查看NULL的数据：\n",
    "data.isnull().sum()"
   ]
  },
  {
   "cell_type": "code",
   "execution_count": null,
   "metadata": {},
   "outputs": [],
   "source": [
    "data.notnull().sum()"
   ]
  },
  {
   "cell_type": "code",
   "execution_count": null,
   "metadata": {},
   "outputs": [],
   "source": [
    "# 查看数据的标准差，最大，最下值\n",
    "data.describe()"
   ]
  },
  {
   "cell_type": "code",
   "execution_count": null,
   "metadata": {},
   "outputs": [],
   "source": [
    "#这里的数据量比较多，数据相对比较大，这里很明显可以看出的Product Cost这里有个负数\n",
    "data[data['Product Cost'] < 0]"
   ]
  },
  {
   "cell_type": "code",
   "execution_count": null,
   "metadata": {},
   "outputs": [],
   "source": [
    "len(data[data['Product Cost'] < 0])"
   ]
  },
  {
   "cell_type": "code",
   "execution_count": null,
   "metadata": {},
   "outputs": [],
   "source": [
    "#每销售出一个该产品的成本，这里如果为负数，直接删除处理\n",
    "data.drop(index=data[data['Product Cost'] < 0].index, inplace=True)"
   ]
  },
  {
   "cell_type": "code",
   "execution_count": null,
   "metadata": {},
   "outputs": [],
   "source": [
    "# 数据清洗，这里有48381条数据是重复的，删除这些数据\n",
    "data[data.duplicated()]"
   ]
  },
  {
   "cell_type": "code",
   "execution_count": null,
   "metadata": {},
   "outputs": [],
   "source": [
    "# 删除重复的数据\n",
    "# 这里的重复的数据是完全重复的，所有的值都是相同的，\n",
    "# 这里只能判断为异常数据，直接删除掉\n",
    "data.drop(index=data[data.duplicated()].index,inplace=True)"
   ]
  },
  {
   "cell_type": "code",
   "execution_count": null,
   "metadata": {},
   "outputs": [],
   "source": [
    "data['Sale Date Time'] = pd.to_datetime(data['Sale Date Time'])\n",
    "data.info()"
   ]
  },
  {
   "cell_type": "code",
   "execution_count": null,
   "metadata": {},
   "outputs": [],
   "source": [
    "data['Sale Date Time'].unique()"
   ]
  },
  {
   "cell_type": "code",
   "execution_count": null,
   "metadata": {},
   "outputs": [],
   "source": [
    "data['year'] = data['Sale Date Time'].dt.year\n",
    "data['month'] = data['Sale Date Time'].dt.month\n",
    "data['day'] = data['Sale Date Time'].dt.day\n",
    "data['hour'] = data['Sale Date Time'].dt.hour\n",
    "data['day of week'] = data['Sale Date Time'].dt.day_name()\n",
    "data.head()"
   ]
  },
  {
   "cell_type": "code",
   "execution_count": null,
   "metadata": {},
   "outputs": [],
   "source": [
    "data.to_csv(\"./baxidata.csv\")"
   ]
  },
  {
   "cell_type": "code",
   "execution_count": null,
   "metadata": {},
   "outputs": [],
   "source": [
    "# 年销售额情况\n",
    "data.groupby('year')['Order Number'].count()"
   ]
  },
  {
   "cell_type": "code",
   "execution_count": null,
   "metadata": {},
   "outputs": [],
   "source": [
    "data.groupby(['year'])['Order Number'].count().plot()"
   ]
  },
  {
   "cell_type": "code",
   "execution_count": null,
   "metadata": {},
   "outputs": [],
   "source": [
    "data.groupby(['year','month'])['Order Number'].count()"
   ]
  },
  {
   "cell_type": "code",
   "execution_count": null,
   "metadata": {},
   "outputs": [],
   "source": [
    "data.groupby(['year','month'])['Order Number'].count().plot()"
   ]
  },
  {
   "cell_type": "code",
   "execution_count": null,
   "metadata": {},
   "outputs": [],
   "source": [
    "data.groupby(['year','month'])['Order Number'].count().idxmax()"
   ]
  },
  {
   "cell_type": "code",
   "execution_count": null,
   "metadata": {},
   "outputs": [],
   "source": [
    "周的销售情况"
   ]
  },
  {
   "cell_type": "code",
   "execution_count": null,
   "metadata": {},
   "outputs": [],
   "source": [
    "'day of week'  \n",
    "data.groupby(['day of week'],sort=False)['Order Number'].count()"
   ]
  },
  {
   "cell_type": "code",
   "execution_count": null,
   "metadata": {},
   "outputs": [],
   "source": [
    "data.groupby(['day of week'],sort=False)['Order Number'].count().plot()"
   ]
  },
  {
   "cell_type": "code",
   "execution_count": null,
   "metadata": {},
   "outputs": [],
   "source": [
    "data.groupby(['year','month','day of week'])['Order Number'].count()"
   ]
  },
  {
   "cell_type": "code",
   "execution_count": null,
   "metadata": {},
   "outputs": [],
   "source": [
    "data.groupby(['year','month','day of week'])['Order Number'].count().plot()"
   ]
  },
  {
   "cell_type": "code",
   "execution_count": null,
   "metadata": {},
   "outputs": [],
   "source": [
    "# 日的销售情况\n",
    "data.groupby(['day'])['Order Number'].count()"
   ]
  },
  {
   "cell_type": "code",
   "execution_count": null,
   "metadata": {},
   "outputs": [],
   "source": [
    "data.groupby(['hour'])['Order Number'].count()"
   ]
  },
  {
   "cell_type": "code",
   "execution_count": null,
   "metadata": {},
   "outputs": [],
   "source": [
    "data.groupby(['hour'])['Order Number'].count().plot()"
   ]
  },
  {
   "cell_type": "code",
   "execution_count": null,
   "metadata": {},
   "outputs": [],
   "source": [
    "##销售预测按日\n",
    "# 将销售时间设置成索引\n",
    "data.set_index('Sale Date Time', inplace=True, drop=True)\n",
    "# 将数据重新整理成以天来统计每天销售额的汇总\n",
    "day_data = data.resample('D')['Total'].sum()\n",
    "day_data"
   ]
  },
  {
   "cell_type": "code",
   "execution_count": null,
   "metadata": {},
   "outputs": [],
   "source": [
    "# 挑选2018年1月1日到2020年2月29的数据\n",
    "train_day_data = day_data[day_data.index >= '2018-01-01']\n",
    "train_day_data = train_day_data[train_day_data.index <= '2019-12-31']\n",
    "\n",
    "train_day_data.to_excel('./日销售数据.xlsx')"
   ]
  },
  {
   "cell_type": "code",
   "execution_count": null,
   "metadata": {},
   "outputs": [],
   "source": [
    "\n",
    "data = pd.read_excel('./日销售数据.xlsx',engine=\"openpyxl\")\n",
    "\n",
    "data.rename(columns={'Sale Date Time': 'date1'}, inplace=True)\n",
    "data"
   ]
  },
  {
   "cell_type": "code",
   "execution_count": null,
   "metadata": {},
   "outputs": [],
   "source": [
    "\n",
    "data['Total'] = round(data['Total'] / 100000, 4)"
   ]
  },
  {
   "cell_type": "markdown",
   "metadata": {},
   "source": [
    "复购率\n",
    "总体复购率：\n",
    "这里是按这份数据所在的时间段，计算购买次数大于2次的用户，再除于总的用户数，这里得排除的一个数据是用户Client这里，有一个数据是Customer not informed（客户没有提供名字的情况），这条数据得排除了，所以计算购买次数大于2的用户和总用户数对应减去1"
   ]
  },
  {
   "cell_type": "code",
   "execution_count": null,
   "metadata": {},
   "outputs": [],
   "source": [
    "\n",
    "\n",
    "import matplotlib.pyplot as plt\n",
    "\n",
    "plt.rcParams['font.sans-serif'] = 'SimHei'\n",
    "\n",
    "plt.rcParams['axes.unicode_minus'] = False\n",
    "\n",
    "%matplotlib inline\n",
    "\n",
    "plt.figure(figsize=(18, 8), dpi=256)\n",
    "\n",
    "data['Total'][:-30].plot()"
   ]
  },
  {
   "cell_type": "code",
   "execution_count": null,
   "metadata": {},
   "outputs": [],
   "source": [
    "from statsmodels.graphics.tsaplots import plot_acf\n",
    "plot_acf(data['Total'][:-30])\n",
    "plt.figure(figsize=(18, 8), dpi=256)"
   ]
  },
  {
   "cell_type": "code",
   "execution_count": null,
   "metadata": {},
   "outputs": [],
   "source": [
    "\n",
    "from statsmodels.graphics.tsaplots import plot_pacf\n",
    "plot_pacf(data['Total'][:-30])\n",
    "plt.figure(figsize=(18, 8), dpi=256)"
   ]
  },
  {
   "cell_type": "code",
   "execution_count": null,
   "metadata": {},
   "outputs": [],
   "source": [
    "\n",
    "from statsmodels.tsa.stattools import adfuller as ADF \n",
    "print(ADF(data['Total'][:-30]))"
   ]
  },
  {
   "cell_type": "code",
   "execution_count": null,
   "metadata": {},
   "outputs": [],
   "source": [
    "D_data = data['Total'][:-30].diff().dropna()\n",
    "print('一阶段差分检验结果：', ADF(D_data))"
   ]
  },
  {
   "cell_type": "code",
   "execution_count": null,
   "metadata": {},
   "outputs": [],
   "source": [
    "from statsmodels.stats.diagnostic import acorr_ljungbox\n",
    "print('白噪声检验结果：', acorr_ljungbox(D_data, lags=1,return_df=True))"
   ]
  },
  {
   "cell_type": "code",
   "execution_count": null,
   "metadata": {},
   "outputs": [],
   "source": [
    "\n",
    "from statsmodels.tsa.arima.model import ARIMA\n",
    "from datetime import datetime\n",
    "from itertools import product\n",
    "ps = range(0, 5)\n",
    "qs = range(0, 5)\n",
    "parameters = product(ps, qs)\n",
    "parameters_list = list(parameters)\n",
    "\n",
    "best_aic = float('inf')\n",
    "results = []\n",
    "for param in parameters_list:\n",
    "    try:\n",
    "        model = ARIMA(data['Total'][:-30], order=(param[0], 1, param[1])).fit()\n",
    "    except ValueError:\n",
    "        print(\"参数错误：\", param)\n",
    "        continue\n",
    "    aic = model.aic\n",
    "    if aic < best_aic:\n",
    "        best_model = model\n",
    "        best_aic = model.aic\n",
    "        best_param = param\n",
    "    results.append([param, model.aic])\n",
    "results_table = pd.DataFrame(results)\n",
    "results_table.columns = ['parameters', 'aic']\n",
    "print(\"最优模型\", best_model.summary())"
   ]
  },
  {
   "cell_type": "code",
   "execution_count": null,
   "metadata": {},
   "outputs": [],
   "source": [
    "best_model.forecast(30)"
   ]
  },
  {
   "cell_type": "code",
   "execution_count": null,
   "metadata": {},
   "outputs": [],
   "source": [
    "from sklearn.metrics import mean_absolute_error\n",
    "pred_y = best_model.forecast(30)\n",
    "test_y = data['Total'][-30:].values\n",
    "mean_absolute_error(test_y, pred_y)"
   ]
  },
  {
   "cell_type": "code",
   "execution_count": null,
   "metadata": {},
   "outputs": [],
   "source": [
    "plt.figure(figsize=(14, 7), dpi=256)\n",
    "plt.plot(data['date1'][-30:], test_y, label='实际')\n",
    "plt.plot(data['date1'][-30:], pred_y, label='预测')\n",
    "plt.xticks(data['date1'][-30:], rotation=70)\n",
    "plt.legend(loc=3)"
   ]
  },
  {
   "cell_type": "code",
   "execution_count": null,
   "metadata": {},
   "outputs": [],
   "source": [
    "data=pd.read_csv(\"./baxidata.csv\")\n",
    "# 计算每个客户的购买次数，这里使用了nunique(),统计不同订单号的个数\n",
    "client_data = data.groupby('Client').nunique()['Order Number']\n",
    "# 重命名列\n",
    "client_data = client_data.reset_index().rename(columns={'Order Number': \n",
    "                                                        'user_num'})\n",
    "client_data.sort_values('user_num', ascending=False)         "
   ]
  },
  {
   "cell_type": "code",
   "execution_count": null,
   "metadata": {},
   "outputs": [],
   "source": [
    "# 总复购率\n",
    "print('总复购率:',\n",
    "round((len(client_data[client_data['user_num'] > 1])-1) / (len(client_data) - 1),4) * 100, \"%\")"
   ]
  },
  {
   "cell_type": "markdown",
   "metadata": {},
   "source": []
  },
  {
   "cell_type": "markdown",
   "metadata": {},
   "source": [
    "一个月内复购率\n",
    "这里的一个月内复购率的定义是：从月初的1号到月底这段时间内，用户复购的比率。"
   ]
  },
  {
   "cell_type": "code",
   "execution_count": null,
   "metadata": {},
   "outputs": [],
   "source": [
    "data['Sale Date Time'] = pd.to_datetime(data['Sale Date Time'])\n",
    "data.info()\n",
    "data.to_csv(\"./baxidata.csv\")"
   ]
  },
  {
   "cell_type": "code",
   "execution_count": null,
   "metadata": {},
   "outputs": [],
   "source": [
    "# 这里的销售时间是datetime格式，增加个辅助列，转换成2017-01这样的年月显示\n",
    "def parse_year_month(x):\n",
    "    if x.month >= 10:\n",
    "        return str(x.year) + \"-\" + str(x.month)\n",
    "    else:\n",
    "        return str(x.year) + \"-0\" + str(x.month)\n",
    "data['year_month'] = data['Sale Date Time'].apply(parse_year_month)\n",
    "# 统计每个月用户的购买次数\n",
    "\n",
    "y_m_data = data.groupby(['year_month','Client']).nunique()['Order Number'].reset_index()\n",
    "y_m_data"
   ]
  },
  {
   "cell_type": "code",
   "execution_count": null,
   "metadata": {},
   "outputs": [],
   "source": [
    "# 每个月的复购率\n",
    "# 保存临时数据，用于构建每月的复购率的DataFrame\n",
    "month_list = []\n",
    "rate_list = []\n",
    "# 循环计算每个月的复购率，这里直接遍历每个月\n",
    "for every_m in y_m_data['year_month'].unique():\n",
    "#     获取每个月用户的购买次数的数据\n",
    "    temp = y_m_data[y_m_data['year_month'] == every_m]\n",
    "\n",
    "    month_list.append(every_m)\n",
    "#     选出购买次数>1的数据，获取数据的长度（用户数）- 1 再除以当月的总用户数 -1 \n",
    "    rate_list.append(round((len(temp[temp['Order Number'] > 1])-1) / (len(temp) -1), 4))\n",
    "#将数据转换成DataFrame\n",
    "t_1 = {'month': month_list, 'rate': rate_list}\n",
    "rate_data = pd.DataFrame(t_1)\n",
    "rate_data"
   ]
  },
  {
   "cell_type": "code",
   "execution_count": null,
   "metadata": {},
   "outputs": [],
   "source": [
    "y_m_data['year_month'].unique()"
   ]
  },
  {
   "cell_type": "code",
   "execution_count": null,
   "metadata": {},
   "outputs": [],
   "source": [
    "temp['Order Number']"
   ]
  },
  {
   "cell_type": "markdown",
   "metadata": {},
   "source": [
    "购买次数的情况"
   ]
  },
  {
   "cell_type": "code",
   "execution_count": null,
   "metadata": {},
   "outputs": [],
   "source": [
    "# 这里只挑选了2019年9月这个月的购买次数来做分析，其他月份的可以类推。\n",
    "\n",
    "data_201909 = y_m_data[y_m_data['year_month'] == '2019-09'].copy()\n",
    "#重命名Order Number为购买次数buy_frequency\n",
    "data_201909.rename(columns={'Order Number': 'buy_frequency'}, inplace=True)\n",
    "print(data_201909.min())\n",
    "print(data_201909.max())\n",
    "data_201909.head()"
   ]
  },
  {
   "cell_type": "code",
   "execution_count": null,
   "metadata": {},
   "outputs": [],
   "source": [
    "# 设置数据的区间\n",
    "bins = [0, 1, 2, 5, 10, 50, 100, 100000]\n",
    "per_frequency = pd.cut(data_201909['buy_frequency'], bins)\n",
    "print(per_frequency.value_counts())\n",
    "per_frequency.value_counts().plot(kind='bar')"
   ]
  },
  {
   "cell_type": "markdown",
   "metadata": {},
   "source": [
    "RFM模型分析用户的价值"
   ]
  },
  {
   "cell_type": "code",
   "execution_count": null,
   "metadata": {},
   "outputs": [],
   "source": [
    "# 这里只针对2019年9月份的用户价值进行分类，其他可以类推。\n",
    "# 按月份提取每个月用户的R、F、M值\n",
    "RFM_data_all = data.groupby(['year_month','Client']).agg({'Order Number': \"nunique\",'Sale Date Time': max,'Total': sum})\n",
    "RFM_data_all.reset_index(inplace=True)"
   ]
  },
  {
   "cell_type": "code",
   "execution_count": null,
   "metadata": {},
   "outputs": [],
   "source": [
    "# 保存一份数据，下次直接读取该数据集就可以，省时间\n",
    "RFM_data_all.to_excel('RFM_data_all.xlsx', index=False)"
   ]
  },
  {
   "cell_type": "code",
   "execution_count": null,
   "metadata": {},
   "outputs": [],
   "source": [
    "# 提取2018年4月份的数据\n",
    "RFM_data_201909  = RFM_data_all[RFM_data_all['year_month'] == '2019-09']\n",
    "RFM_data_201909                 "
   ]
  },
  {
   "cell_type": "code",
   "execution_count": null,
   "metadata": {},
   "outputs": [],
   "source": [
    "# 参考时间，这里随便设置里2019-11-30 23:59:59，不让R值为0，这里的R以天作为单位\n",
    "import datetime\n",
    "reference_time = datetime.datetime.strptime('2019-11-30 23:59:59',\"%Y-%m-%d %H:%M:%S\")\n",
    "# 构建R指标\n",
    "RFM_data_201909['R'] = RFM_data_201909['Sale Date Time'].apply(lambda x: (reference_time - x).days)\n",
    "# 重新命名列\n",
    "RFM_data_201909.rename(columns={'Order Number': 'F', 'Total': 'M'}, inplace=True)\n",
    "# 排序查看异常值\n",
    "RFM_data_201909.sort_values('M', ascending=False)"
   ]
  },
  {
   "cell_type": "code",
   "execution_count": null,
   "metadata": {},
   "outputs": [],
   "source": [
    "# 这里有个异常值，标记为客户没有提及姓名的，直接删除处理。\n",
    "RFM_data_201909.drop(index=35727, inplace=True)"
   ]
  },
  {
   "cell_type": "code",
   "execution_count": null,
   "metadata": {},
   "outputs": [],
   "source": [
    "RFM_data = RFM_data_201909[['R', 'F', 'M']]"
   ]
  },
  {
   "cell_type": "code",
   "execution_count": null,
   "metadata": {},
   "outputs": [],
   "source": [
    "RFM_data"
   ]
  },
  {
   "cell_type": "code",
   "execution_count": null,
   "metadata": {},
   "outputs": [],
   "source": [
    "df1=RFM_data.apply(lambda x:[x.min(),x.max(),x.mean()])\n",
    "df1.rename(index={0: \"min\", 1: \"max\", 2: \"mean\"})"
   ]
  },
  {
   "cell_type": "code",
   "execution_count": null,
   "metadata": {},
   "outputs": [],
   "source": [
    "# def kmeans(X, n_clusters):\n",
    "#     ss = StandardScaler()\n",
    "#     X = ss.fit_transform(X)\n",
    "#     km = KMeans(n_clusters=n_clusters)\n",
    "#     km.fit(X)\n",
    "#     y_pred = km.predict(X)\n",
    "#     plt.scatter(X[:,0], X[:,1],c=y_pred, cmap='Paired')\n",
    "#     plt.title(\"K-means\")"
   ]
  },
  {
   "cell_type": "code",
   "execution_count": null,
   "metadata": {},
   "outputs": [],
   "source": [
    "from sklearn.preprocessing import StandardScaler\n",
    "from sklearn.cluster import KMeans\n",
    "#数据规范化\n",
    "ss  = StandardScaler()\n",
    "train = ss.fit_transform(RFM_data)\n",
    "# 模型进行训练，这里直接聚类成5类。\n",
    "kmeans_model = KMeans(n_clusters=5)\n",
    "kmeans_model.fit(train)\n",
    "#查看聚类中心\n",
    "cluster = pd.DataFrame(kmeans_model.cluster_centers_, columns=['R', 'F', 'M'])\n",
    "cluster"
   ]
  },
  {
   "cell_type": "markdown",
   "metadata": {},
   "source": [
    "分群0：R小，F小，M小，这类属于一般价值客户。\n",
    "\n",
    "分群1，R大，F小，M小，这类属于一般发展客户。\n",
    "\n",
    "分群2，R小，F大，M大，这类属于重点保持客户。\n",
    "\n",
    "分群3、4 这类，R小，F、M大，这类都属于高价值客户。"
   ]
  },
  {
   "cell_type": "code",
   "execution_count": null,
   "metadata": {},
   "outputs": [],
   "source": [
    "# 将分群的结果合并到RFM_data数据里看下原数据。\n",
    "RFM_data['sk5_label'] = kmeans_model.labels_"
   ]
  },
  {
   "cell_type": "code",
   "execution_count": null,
   "metadata": {},
   "outputs": [],
   "source": [
    "RFM_data"
   ]
  },
  {
   "cell_type": "code",
   "execution_count": null,
   "metadata": {},
   "outputs": [],
   "source": [
    "RFM_data.loc[RFM_data[\"R\"] < RFM_data[\"R\"].median(), \"Rcut\"] = 0\n",
    "RFM_data.loc[RFM_data[\"R\"] >= RFM_data[\"R\"].median(), \"Rcut\"] = 1"
   ]
  },
  {
   "cell_type": "code",
   "execution_count": null,
   "metadata": {},
   "outputs": [],
   "source": [
    "RFM_data[\"Mcut\"]= np.where(RFM_data[\"M\"]<RFM_data[\"M\"].median(),0,1)\n",
    "RFM_data[\"Mcut\"]= np.where(RFM_data[\"M\"]>=RFM_data[\"M\"].median(),0,1)"
   ]
  },
  {
   "cell_type": "code",
   "execution_count": null,
   "metadata": {},
   "outputs": [],
   "source": [
    "RFM_data.sample(3)"
   ]
  },
  {
   "cell_type": "code",
   "execution_count": null,
   "metadata": {},
   "outputs": [],
   "source": [
    "RFM_data.describe()"
   ]
  },
  {
   "cell_type": "code",
   "execution_count": null,
   "metadata": {},
   "outputs": [],
   "source": [
    "RFM_data[RFM_data['sk5_label'] == 2]"
   ]
  },
  {
   "cell_type": "code",
   "execution_count": null,
   "metadata": {},
   "outputs": [],
   "source": [
    "RFM_data[RFM_data['sk5_label'] == 4]"
   ]
  },
  {
   "cell_type": "code",
   "execution_count": null,
   "metadata": {},
   "outputs": [],
   "source": [
    "RFM_data[RFM_data['sk5_label'] == 3]"
   ]
  },
  {
   "cell_type": "code",
   "execution_count": null,
   "metadata": {},
   "outputs": [],
   "source": [
    "RFM_data[RFM_data['sk5_label'] == 1]"
   ]
  },
  {
   "cell_type": "code",
   "execution_count": null,
   "metadata": {},
   "outputs": [],
   "source": [
    "RFM_data.to_csv(\"./RFM_data.csv\")"
   ]
  },
  {
   "cell_type": "markdown",
   "metadata": {},
   "source": [
    "#用户月留存率\n",
    "这里统计用户月存留率是上个月与当前月都有购买的用户的数量/(除以)上个月的总用户数（去重）。类似流失率，这里不同的是都是上月流向下月的，不是1->2->3这样的流向，而是1->2， 2->3这样的流向。"
   ]
  },
  {
   "cell_type": "code",
   "execution_count": null,
   "metadata": {},
   "outputs": [],
   "source": [
    "# 提取每个月的用户（去重）\n",
    "every_month_user = data.groupby(['year_month', 'Client'])['Order Number'].nunique().reset_index()\n",
    "every_month_user"
   ]
  },
  {
   "cell_type": "code",
   "execution_count": null,
   "metadata": {},
   "outputs": [],
   "source": [
    "# 获取每个月份的列表，循环遍历计算上个月与当前月的留存率\n",
    "year_month = every_month_user['year_month'].unique()\n",
    "# 保存月留存率的列表\n",
    "list_month_rate = []\n",
    "for i, month in enumerate(year_month):\n",
    "#     计算上个月与当前月的留存率\n",
    "    if i>= 1:\n",
    "#         获取当前月的用户（上面groupby已去重）\n",
    "        this_month_client = every_month_user[every_month_user['year_month'] == month]['Client']\n",
    "#        获取上个月的用户（上面groupby已去重）\n",
    "        previous_month_client = every_month_user[every_month_user['year_month'] == year_month[i-1]]['Client']\n",
    "#         计算留存率，这里用的是上个月与当前月用户的交集个数/上个月的用户数（去重）\n",
    "        rate = round(len (set(this_month_client) & set(previous_month_client))/ len(previous_month_client),2)\n",
    "#         用列表保存数据，并构建DataFrame用户绘图\n",
    "        b = [month, rate]\n",
    "        list_month_rate.append(b)\n",
    "# 构建DataFrame\n",
    "rate_data = pd.DataFrame(list_month_rate, columns=['year_month', 'rate'])\n",
    "rate_data"
   ]
  },
  {
   "cell_type": "code",
   "execution_count": null,
   "metadata": {},
   "outputs": [],
   "source": [
    "# 产品角度的分析，使用聚类分析进行产品的分类\n",
    "# 这里先获取每个月的产品的成本C，订单量F，销售总金额M，这里只挑选了2019年9月一个月的产品数据来分析\n",
    "\n",
    "month_product_data = data.groupby(['year_month', 'Product']).agg({'Product Cost': 'mean','Order Number': 'nunique','Total': 'sum'}).reset_index()\n",
    "\n",
    "# 重命名\n",
    "month_product_data.rename(columns={'Product Cost': 'C', 'Order Number': 'F', 'Total': 'M'}, inplace=True)\n",
    "month_product_data.to_excel('./month_product_data.xlsx', index=False)                                  \n",
    "# 选择2019年9月的数据\n",
    "# 这里只取一个月的产品进行聚类\n",
    "month_product_201909 = month_product_data[month_product_data['year_month'] == '2019-09']\n",
    "month_product_201909"
   ]
  },
  {
   "cell_type": "code",
   "execution_count": null,
   "metadata": {},
   "outputs": [],
   "source": [
    "\n",
    "from sklearn.preprocessing import StandardScaler\n",
    "from sklearn.cluster import DBSCAN\n",
    "ss = StandardScaler()\n",
    "# 获取需要的数据\n",
    "X = month_product_201909[['C', 'F', 'M']]\n",
    "# 数据规范化\n",
    "train_X = ss.fit_transform(X)\n",
    "# 设置聚类数4个\n",
    "dbscan_model = DBSCAN(min_samples=10)\n",
    "# 模型训练\n",
    "dbscan_model.fit(train_X)\n",
    "# 将聚类的结果合并到原数据集上。\n",
    "month_product_201909['labels'] = dbscan_model.labels_\n",
    "# 查看聚类的分布情况\n",
    "month_product_201909['labels'].value_counts()"
   ]
  },
  {
   "cell_type": "code",
   "execution_count": null,
   "metadata": {},
   "outputs": [],
   "source": [
    "def dbscan(X, eps, min_samples):\n",
    "    ss = StandardScaler()\n",
    "    X = ss.fit_transform(X)\n",
    "    db = DBSCAN(eps=eps, min_samples=min_samples)\n",
    "    db.fit(X)\n",
    "    y_pred = db.fit_predict(X)\n",
    "    plt.scatter(X[:,0], X[:,1],c=y_pred, cmap='Paired')\n",
    "    plt.title(\"DBSCAN\")"
   ]
  },
  {
   "cell_type": "code",
   "execution_count": null,
   "metadata": {},
   "outputs": [],
   "source": [
    "dbscan(train_X,eps=0.4,min_samples=10)"
   ]
  },
  {
   "cell_type": "code",
   "execution_count": null,
   "metadata": {},
   "outputs": [],
   "source": [
    "month_product_201909"
   ]
  },
  {
   "cell_type": "code",
   "execution_count": null,
   "metadata": {},
   "outputs": [],
   "source": [
    "month_product_201909.to_csv(\"./month_product_201909.csv\")"
   ]
  },
  {
   "cell_type": "code",
   "execution_count": null,
   "metadata": {},
   "outputs": [],
   "source": [
    "from sklearn.preprocessing import StandardScaler\n",
    "ss = StandardScaler()\n",
    "# 获取需要的数据\n",
    "X = month_product_201909[['C', 'F', 'M']]\n",
    "# 数据规范化\n",
    "train_X = ss.fit_transform(X)\n",
    "# 设置聚类数4个\n",
    "kmeans_model2 = KMeans(n_clusters=5)\n",
    "# 模型训练\n",
    "kmeans_model2.fit(train_X)\n",
    "# 将聚类的结果合并到原数据集上。\n",
    "month_product_201909['labels_kmeans'] = kmeans_model2.labels_\n",
    "# 查看聚类的分布情况\n",
    "month_product_201909['labels_kmeans'].value_counts()"
   ]
  },
  {
   "cell_type": "code",
   "execution_count": null,
   "metadata": {},
   "outputs": [],
   "source": [
    "def kmeans(X, n_clusters):\n",
    "    ss = StandardScaler()\n",
    "    X = ss.fit_transform(X)\n",
    "    km = KMeans(n_clusters=n_clusters)\n",
    "    km.fit(X)\n",
    "    y_pred = km.predict(X)\n",
    "    plt.scatter(X[:,0], X[:,1],c=y_pred, cmap='Paired')\n",
    "    plt.title(\"K-means\")"
   ]
  },
  {
   "cell_type": "code",
   "execution_count": null,
   "metadata": {},
   "outputs": [],
   "source": [
    "kmeans(X,n_clusters=5)"
   ]
  },
  {
   "cell_type": "code",
   "execution_count": null,
   "metadata": {},
   "outputs": [],
   "source": [
    "def hier(X, n_clusters):\n",
    "    from sklearn.cluster import AgglomerativeClustering\n",
    "    ss = StandardScaler()\n",
    "    X = ss.fit_transform(X)\n",
    "    hier =AgglomerativeClustering(n_clusters=n_clusters)\n",
    "    y_pred = hier.fit_predict(X)\n",
    "    plt.scatter(X[:,0], X[:,1],c=y_pred, cmap='Paired')\n",
    "    plt.title(\"Hierarchical\")"
   ]
  },
  {
   "cell_type": "code",
   "execution_count": null,
   "metadata": {},
   "outputs": [],
   "source": [
    "hier(X,n_clusters=5)"
   ]
  },
  {
   "cell_type": "code",
   "execution_count": null,
   "metadata": {},
   "outputs": [],
   "source": [
    "month_product_201909.to_csv(\"./month_product_201909.csv\")"
   ]
  },
  {
   "cell_type": "code",
   "execution_count": null,
   "metadata": {},
   "outputs": [],
   "source": []
  }
 ],
 "metadata": {
  "kernelspec": {
   "display_name": "Python 3",
   "language": "python",
   "name": "python3"
  },
  "language_info": {
   "codemirror_mode": {
    "name": "ipython",
    "version": 3
   },
   "file_extension": ".py",
   "mimetype": "text/x-python",
   "name": "python",
   "nbconvert_exporter": "python",
   "pygments_lexer": "ipython3",
   "version": "3.9.0"
  }
 },
 "nbformat": 4,
 "nbformat_minor": 4
}
